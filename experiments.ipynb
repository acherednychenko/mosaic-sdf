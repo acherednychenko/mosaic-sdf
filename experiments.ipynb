{
 "cells": [
  {
   "cell_type": "code",
   "execution_count": 1,
   "metadata": {},
   "outputs": [],
   "source": [
    "import torch\n",
    "import torch.nn as nn\n",
    "import numpy as np\n",
    "\n",
    "from einops import rearrange\n",
    "\n",
    "from mosaic_sdf import MosaicSDF\n",
    "from shape_sampler import ShapeSampler\n",
    "from optimizer import MosaicSDFOptimizer\n",
    "from mosaic_sdf_visualizer import MosaicSDFVisualizer\n",
    "\n",
    "from pytorch3d.vis.plotly_vis import AxisArgs, plot_batch_individually, plot_scene"
   ]
  },
  {
   "cell_type": "code",
   "execution_count": 2,
   "metadata": {},
   "outputs": [],
   "source": [
    "# device = torch.device(\"cuda:0\" if torch.cuda.is_available() else \"cpu\")\n",
    "\n",
    "device = 'cpu'\n",
    "k = 3\n",
    "n_grids = 1\n",
    "volume_centers = torch.tensor([\n",
    "    [0,0,0]\n",
    "    ], dtype=torch.float32)\n",
    "volume_scales = torch.tensor([1], dtype=torch.float32)\n",
    "\n",
    "model = MosaicSDF(\n",
    "    grid_resolution=k,\n",
    "    n_grids=n_grids,\n",
    "    volume_centers=volume_centers,\n",
    "    volume_scales=volume_scales\n",
    ").to(device)"
   ]
  },
  {
   "cell_type": "code",
   "execution_count": 9,
   "metadata": {},
   "outputs": [],
   "source": [
    "def get_sdf(p):\n",
    "    # print(p.shape)\n",
    "    s = torch.linalg.norm(p, ord=2, dim=-1)\n",
    "    # print(s.shape)\n",
    "    return s\n",
    "\n",
    "model.update_sdf_values(get_sdf)"
   ]
  },
  {
   "cell_type": "code",
   "execution_count": 10,
   "metadata": {},
   "outputs": [
    {
     "data": {
      "text/plain": [
       "tensor([[[[-1.7321, -1.4142, -1.7321],\n",
       "          [-1.4142, -1.0000, -1.4142],\n",
       "          [-1.7321, -1.4142, -1.7321]],\n",
       "\n",
       "         [[-1.4142, -1.0000, -1.4142],\n",
       "          [-1.0000, -0.0000, -1.0000],\n",
       "          [-1.4142, -1.0000, -1.4142]],\n",
       "\n",
       "         [[-1.7321, -1.4142, -1.7321],\n",
       "          [-1.4142, -1.0000, -1.4142],\n",
       "          [-1.7321, -1.4142, -1.7321]]]], grad_fn=<ViewBackward0>)"
      ]
     },
     "execution_count": 10,
     "metadata": {},
     "output_type": "execute_result"
    }
   ],
   "source": [
    "model.mosaic_sdf_values"
   ]
  },
  {
   "cell_type": "code",
   "execution_count": 11,
   "metadata": {},
   "outputs": [
    {
     "data": {
      "text/plain": [
       "tensor([-1.6860,  0.0000, -1.1218], grad_fn=<NanToNumBackward0>)"
      ]
     },
     "execution_count": 11,
     "metadata": {},
     "output_type": "execute_result"
    }
   ],
   "source": [
    "p = torch.tensor([\n",
    "    [-.99,-.99,-.99],\n",
    "    [0,0,0],\n",
    "    [.5,.5,.5]\n",
    "], dtype=torch.float32)\n",
    "sdfs = model(p)\n",
    "sdfs\n"
   ]
  },
  {
   "cell_type": "code",
   "execution_count": 8,
   "metadata": {},
   "outputs": [],
   "source": [
    "# k = 3\n",
    "# device = 'cpu'\n",
    "\n",
    "rel_positions = torch.linspace(-1, 1, steps=k, device=device)\n",
    "grid_coords = torch.stack(\n",
    "    torch.meshgrid(rel_positions, rel_positions, rel_positions, indexing='ij'), \n",
    "    dim=-1).reshape((-1, 3))\n",
    "# grid_coords"
   ]
  },
  {
   "cell_type": "code",
   "execution_count": 9,
   "metadata": {},
   "outputs": [
    {
     "name": "stdout",
     "output_type": "stream",
     "text": [
      "in_grid_weights: tensor([[[[[0.7000, 0.7000, 0.0000],\n",
      "           [0.7000, 0.7000, 0.0000],\n",
      "           [0.0000, 0.0000, 0.0000]],\n",
      "\n",
      "          [[0.7000, 0.7000, 0.0000],\n",
      "           [0.7000, 0.3000, 0.0000],\n",
      "           [0.0000, 0.0000, 0.0000]],\n",
      "\n",
      "          [[0.0000, 0.0000, 0.0000],\n",
      "           [0.0000, 0.0000, 0.0000],\n",
      "           [0.0000, 0.0000, 0.0000]]]],\n",
      "\n",
      "\n",
      "\n",
      "        [[[[1.0000, 0.7000, 1.0000],\n",
      "           [1.0000, 0.7000, 1.0000],\n",
      "           [0.0000, 0.0000, 0.0000]],\n",
      "\n",
      "          [[1.0000, 0.7000, 1.0000],\n",
      "           [1.0000, 0.3000, 1.0000],\n",
      "           [0.0000, 0.0000, 0.0000]],\n",
      "\n",
      "          [[0.0000, 0.0000, 0.0000],\n",
      "           [0.0000, 0.0000, 0.0000],\n",
      "           [0.0000, 0.0000, 0.0000]]]],\n",
      "\n",
      "\n",
      "\n",
      "        [[[[0.0000, 0.7000, 0.7000],\n",
      "           [0.0000, 0.7000, 0.7000],\n",
      "           [0.0000, 0.0000, 0.0000]],\n",
      "\n",
      "          [[0.0000, 0.7000, 0.7000],\n",
      "           [0.0000, 0.3000, 0.7000],\n",
      "           [0.0000, 0.0000, 0.0000]],\n",
      "\n",
      "          [[0.0000, 0.0000, 0.0000],\n",
      "           [0.0000, 0.0000, 0.0000],\n",
      "           [0.0000, 0.0000, 0.0000]]]],\n",
      "\n",
      "\n",
      "\n",
      "        [[[[1.0000, 1.0000, 0.0000],\n",
      "           [0.7000, 0.7000, 0.0000],\n",
      "           [1.0000, 1.0000, 0.0000]],\n",
      "\n",
      "          [[1.0000, 1.0000, 0.0000],\n",
      "           [0.7000, 0.3000, 0.0000],\n",
      "           [1.0000, 1.0000, 0.0000]],\n",
      "\n",
      "          [[0.0000, 0.0000, 0.0000],\n",
      "           [0.0000, 0.0000, 0.0000],\n",
      "           [0.0000, 0.0000, 0.0000]]]],\n",
      "\n",
      "\n",
      "\n",
      "        [[[[1.0000, 1.0000, 1.0000],\n",
      "           [1.0000, 0.7000, 1.0000],\n",
      "           [1.0000, 1.0000, 1.0000]],\n",
      "\n",
      "          [[1.0000, 1.0000, 1.0000],\n",
      "           [1.0000, 0.3000, 1.0000],\n",
      "           [1.0000, 1.0000, 1.0000]],\n",
      "\n",
      "          [[0.0000, 0.0000, 0.0000],\n",
      "           [0.0000, 0.0000, 0.0000],\n",
      "           [0.0000, 0.0000, 0.0000]]]],\n",
      "\n",
      "\n",
      "\n",
      "        [[[[0.0000, 1.0000, 1.0000],\n",
      "           [0.0000, 0.7000, 0.7000],\n",
      "           [0.0000, 1.0000, 1.0000]],\n",
      "\n",
      "          [[0.0000, 1.0000, 1.0000],\n",
      "           [0.0000, 0.3000, 0.7000],\n",
      "           [0.0000, 1.0000, 1.0000]],\n",
      "\n",
      "          [[0.0000, 0.0000, 0.0000],\n",
      "           [0.0000, 0.0000, 0.0000],\n",
      "           [0.0000, 0.0000, 0.0000]]]],\n",
      "\n",
      "\n",
      "\n",
      "        [[[[0.0000, 0.0000, 0.0000],\n",
      "           [0.7000, 0.7000, 0.0000],\n",
      "           [0.7000, 0.7000, 0.0000]],\n",
      "\n",
      "          [[0.0000, 0.0000, 0.0000],\n",
      "           [0.7000, 0.3000, 0.0000],\n",
      "           [0.7000, 0.7000, 0.0000]],\n",
      "\n",
      "          [[0.0000, 0.0000, 0.0000],\n",
      "           [0.0000, 0.0000, 0.0000],\n",
      "           [0.0000, 0.0000, 0.0000]]]],\n",
      "\n",
      "\n",
      "\n",
      "        [[[[0.0000, 0.0000, 0.0000],\n",
      "           [1.0000, 0.7000, 1.0000],\n",
      "           [1.0000, 0.7000, 1.0000]],\n",
      "\n",
      "          [[0.0000, 0.0000, 0.0000],\n",
      "           [1.0000, 0.3000, 1.0000],\n",
      "           [1.0000, 0.7000, 1.0000]],\n",
      "\n",
      "          [[0.0000, 0.0000, 0.0000],\n",
      "           [0.0000, 0.0000, 0.0000],\n",
      "           [0.0000, 0.0000, 0.0000]]]],\n",
      "\n",
      "\n",
      "\n",
      "        [[[[0.0000, 0.0000, 0.0000],\n",
      "           [0.0000, 0.7000, 0.7000],\n",
      "           [0.0000, 0.7000, 0.7000]],\n",
      "\n",
      "          [[0.0000, 0.0000, 0.0000],\n",
      "           [0.0000, 0.3000, 0.7000],\n",
      "           [0.0000, 0.7000, 0.7000]],\n",
      "\n",
      "          [[0.0000, 0.0000, 0.0000],\n",
      "           [0.0000, 0.0000, 0.0000],\n",
      "           [0.0000, 0.0000, 0.0000]]]],\n",
      "\n",
      "\n",
      "\n",
      "        [[[[1.0000, 1.0000, 0.0000],\n",
      "           [1.0000, 1.0000, 0.0000],\n",
      "           [0.0000, 0.0000, 0.0000]],\n",
      "\n",
      "          [[0.7000, 0.7000, 0.0000],\n",
      "           [0.7000, 0.3000, 0.0000],\n",
      "           [0.0000, 0.0000, 0.0000]],\n",
      "\n",
      "          [[1.0000, 1.0000, 0.0000],\n",
      "           [1.0000, 1.0000, 0.0000],\n",
      "           [0.0000, 0.0000, 0.0000]]]],\n",
      "\n",
      "\n",
      "\n",
      "        [[[[1.0000, 1.0000, 1.0000],\n",
      "           [1.0000, 1.0000, 1.0000],\n",
      "           [0.0000, 0.0000, 0.0000]],\n",
      "\n",
      "          [[1.0000, 0.7000, 1.0000],\n",
      "           [1.0000, 0.3000, 1.0000],\n",
      "           [0.0000, 0.0000, 0.0000]],\n",
      "\n",
      "          [[1.0000, 1.0000, 1.0000],\n",
      "           [1.0000, 1.0000, 1.0000],\n",
      "           [0.0000, 0.0000, 0.0000]]]],\n",
      "\n",
      "\n",
      "\n",
      "        [[[[0.0000, 1.0000, 1.0000],\n",
      "           [0.0000, 1.0000, 1.0000],\n",
      "           [0.0000, 0.0000, 0.0000]],\n",
      "\n",
      "          [[0.0000, 0.7000, 0.7000],\n",
      "           [0.0000, 0.3000, 0.7000],\n",
      "           [0.0000, 0.0000, 0.0000]],\n",
      "\n",
      "          [[0.0000, 1.0000, 1.0000],\n",
      "           [0.0000, 1.0000, 1.0000],\n",
      "           [0.0000, 0.0000, 0.0000]]]],\n",
      "\n",
      "\n",
      "\n",
      "        [[[[1.0000, 1.0000, 0.0000],\n",
      "           [1.0000, 1.0000, 0.0000],\n",
      "           [1.0000, 1.0000, 0.0000]],\n",
      "\n",
      "          [[1.0000, 1.0000, 0.0000],\n",
      "           [0.7000, 0.3000, 0.0000],\n",
      "           [1.0000, 1.0000, 0.0000]],\n",
      "\n",
      "          [[1.0000, 1.0000, 0.0000],\n",
      "           [1.0000, 1.0000, 0.0000],\n",
      "           [1.0000, 1.0000, 0.0000]]]],\n",
      "\n",
      "\n",
      "\n",
      "        [[[[1.0000, 1.0000, 1.0000],\n",
      "           [1.0000, 1.0000, 1.0000],\n",
      "           [1.0000, 1.0000, 1.0000]],\n",
      "\n",
      "          [[1.0000, 1.0000, 1.0000],\n",
      "           [1.0000, 0.0000, 1.0000],\n",
      "           [1.0000, 1.0000, 1.0000]],\n",
      "\n",
      "          [[1.0000, 1.0000, 1.0000],\n",
      "           [1.0000, 1.0000, 1.0000],\n",
      "           [1.0000, 1.0000, 1.0000]]]],\n",
      "\n",
      "\n",
      "\n",
      "        [[[[0.0000, 1.0000, 1.0000],\n",
      "           [0.0000, 1.0000, 1.0000],\n",
      "           [0.0000, 1.0000, 1.0000]],\n",
      "\n",
      "          [[0.0000, 1.0000, 1.0000],\n",
      "           [0.0000, 0.3000, 0.7000],\n",
      "           [0.0000, 1.0000, 1.0000]],\n",
      "\n",
      "          [[0.0000, 1.0000, 1.0000],\n",
      "           [0.0000, 1.0000, 1.0000],\n",
      "           [0.0000, 1.0000, 1.0000]]]],\n",
      "\n",
      "\n",
      "\n",
      "        [[[[0.0000, 0.0000, 0.0000],\n",
      "           [1.0000, 1.0000, 0.0000],\n",
      "           [1.0000, 1.0000, 0.0000]],\n",
      "\n",
      "          [[0.0000, 0.0000, 0.0000],\n",
      "           [0.7000, 0.3000, 0.0000],\n",
      "           [0.7000, 0.7000, 0.0000]],\n",
      "\n",
      "          [[0.0000, 0.0000, 0.0000],\n",
      "           [1.0000, 1.0000, 0.0000],\n",
      "           [1.0000, 1.0000, 0.0000]]]],\n",
      "\n",
      "\n",
      "\n",
      "        [[[[0.0000, 0.0000, 0.0000],\n",
      "           [1.0000, 1.0000, 1.0000],\n",
      "           [1.0000, 1.0000, 1.0000]],\n",
      "\n",
      "          [[0.0000, 0.0000, 0.0000],\n",
      "           [1.0000, 0.3000, 1.0000],\n",
      "           [1.0000, 0.7000, 1.0000]],\n",
      "\n",
      "          [[0.0000, 0.0000, 0.0000],\n",
      "           [1.0000, 1.0000, 1.0000],\n",
      "           [1.0000, 1.0000, 1.0000]]]],\n",
      "\n",
      "\n",
      "\n",
      "        [[[[0.0000, 0.0000, 0.0000],\n",
      "           [0.0000, 1.0000, 1.0000],\n",
      "           [0.0000, 1.0000, 1.0000]],\n",
      "\n",
      "          [[0.0000, 0.0000, 0.0000],\n",
      "           [0.0000, 0.3000, 0.7000],\n",
      "           [0.0000, 0.7000, 0.7000]],\n",
      "\n",
      "          [[0.0000, 0.0000, 0.0000],\n",
      "           [0.0000, 1.0000, 1.0000],\n",
      "           [0.0000, 1.0000, 1.0000]]]],\n",
      "\n",
      "\n",
      "\n",
      "        [[[[0.0000, 0.0000, 0.0000],\n",
      "           [0.0000, 0.0000, 0.0000],\n",
      "           [0.0000, 0.0000, 0.0000]],\n",
      "\n",
      "          [[0.7000, 0.7000, 0.0000],\n",
      "           [0.7000, 0.3000, 0.0000],\n",
      "           [0.0000, 0.0000, 0.0000]],\n",
      "\n",
      "          [[0.7000, 0.7000, 0.0000],\n",
      "           [0.7000, 0.7000, 0.0000],\n",
      "           [0.0000, 0.0000, 0.0000]]]],\n",
      "\n",
      "\n",
      "\n",
      "        [[[[0.0000, 0.0000, 0.0000],\n",
      "           [0.0000, 0.0000, 0.0000],\n",
      "           [0.0000, 0.0000, 0.0000]],\n",
      "\n",
      "          [[1.0000, 0.7000, 1.0000],\n",
      "           [1.0000, 0.3000, 1.0000],\n",
      "           [0.0000, 0.0000, 0.0000]],\n",
      "\n",
      "          [[1.0000, 0.7000, 1.0000],\n",
      "           [1.0000, 0.7000, 1.0000],\n",
      "           [0.0000, 0.0000, 0.0000]]]],\n",
      "\n",
      "\n",
      "\n",
      "        [[[[0.0000, 0.0000, 0.0000],\n",
      "           [0.0000, 0.0000, 0.0000],\n",
      "           [0.0000, 0.0000, 0.0000]],\n",
      "\n",
      "          [[0.0000, 0.7000, 0.7000],\n",
      "           [0.0000, 0.3000, 0.7000],\n",
      "           [0.0000, 0.0000, 0.0000]],\n",
      "\n",
      "          [[0.0000, 0.7000, 0.7000],\n",
      "           [0.0000, 0.7000, 0.7000],\n",
      "           [0.0000, 0.0000, 0.0000]]]],\n",
      "\n",
      "\n",
      "\n",
      "        [[[[0.0000, 0.0000, 0.0000],\n",
      "           [0.0000, 0.0000, 0.0000],\n",
      "           [0.0000, 0.0000, 0.0000]],\n",
      "\n",
      "          [[1.0000, 1.0000, 0.0000],\n",
      "           [0.7000, 0.3000, 0.0000],\n",
      "           [1.0000, 1.0000, 0.0000]],\n",
      "\n",
      "          [[1.0000, 1.0000, 0.0000],\n",
      "           [0.7000, 0.7000, 0.0000],\n",
      "           [1.0000, 1.0000, 0.0000]]]],\n",
      "\n",
      "\n",
      "\n",
      "        [[[[0.0000, 0.0000, 0.0000],\n",
      "           [0.0000, 0.0000, 0.0000],\n",
      "           [0.0000, 0.0000, 0.0000]],\n",
      "\n",
      "          [[1.0000, 1.0000, 1.0000],\n",
      "           [1.0000, 0.3000, 1.0000],\n",
      "           [1.0000, 1.0000, 1.0000]],\n",
      "\n",
      "          [[1.0000, 1.0000, 1.0000],\n",
      "           [1.0000, 0.7000, 1.0000],\n",
      "           [1.0000, 1.0000, 1.0000]]]],\n",
      "\n",
      "\n",
      "\n",
      "        [[[[0.0000, 0.0000, 0.0000],\n",
      "           [0.0000, 0.0000, 0.0000],\n",
      "           [0.0000, 0.0000, 0.0000]],\n",
      "\n",
      "          [[0.0000, 1.0000, 1.0000],\n",
      "           [0.0000, 0.3000, 0.7000],\n",
      "           [0.0000, 1.0000, 1.0000]],\n",
      "\n",
      "          [[0.0000, 1.0000, 1.0000],\n",
      "           [0.0000, 0.7000, 0.7000],\n",
      "           [0.0000, 1.0000, 1.0000]]]],\n",
      "\n",
      "\n",
      "\n",
      "        [[[[0.0000, 0.0000, 0.0000],\n",
      "           [0.0000, 0.0000, 0.0000],\n",
      "           [0.0000, 0.0000, 0.0000]],\n",
      "\n",
      "          [[0.0000, 0.0000, 0.0000],\n",
      "           [0.7000, 0.3000, 0.0000],\n",
      "           [0.7000, 0.7000, 0.0000]],\n",
      "\n",
      "          [[0.0000, 0.0000, 0.0000],\n",
      "           [0.7000, 0.7000, 0.0000],\n",
      "           [0.7000, 0.7000, 0.0000]]]],\n",
      "\n",
      "\n",
      "\n",
      "        [[[[0.0000, 0.0000, 0.0000],\n",
      "           [0.0000, 0.0000, 0.0000],\n",
      "           [0.0000, 0.0000, 0.0000]],\n",
      "\n",
      "          [[0.0000, 0.0000, 0.0000],\n",
      "           [1.0000, 0.3000, 1.0000],\n",
      "           [1.0000, 0.7000, 1.0000]],\n",
      "\n",
      "          [[0.0000, 0.0000, 0.0000],\n",
      "           [1.0000, 0.7000, 1.0000],\n",
      "           [1.0000, 0.7000, 1.0000]]]],\n",
      "\n",
      "\n",
      "\n",
      "        [[[[0.0000, 0.0000, 0.0000],\n",
      "           [0.0000, 0.0000, 0.0000],\n",
      "           [0.0000, 0.0000, 0.0000]],\n",
      "\n",
      "          [[0.0000, 0.0000, 0.0000],\n",
      "           [0.0000, 0.3000, 0.7000],\n",
      "           [0.0000, 0.7000, 0.7000]],\n",
      "\n",
      "          [[0.0000, 0.0000, 0.0000],\n",
      "           [0.0000, 0.7000, 0.7000],\n",
      "           [0.0000, 0.7000, 0.7000]]]]], grad_fn=<WhereBackward0>)\n"
     ]
    },
    {
     "data": {
      "text/plain": [
       "tensor([[1.2081, 1.2991, 1.2081],\n",
       "        [1.2991, 1.3495, 1.2991],\n",
       "        [1.2081, 1.2991, 1.2081],\n",
       "        [1.2991, 1.3495, 1.2991],\n",
       "        [1.3495, 1.4164, 1.3495],\n",
       "        [1.2991, 1.3495, 1.2991],\n",
       "        [1.2081, 1.2991, 1.2081],\n",
       "        [1.2991, 1.3495, 1.2991],\n",
       "        [1.2081, 1.2991, 1.2081]], grad_fn=<ViewBackward0>)"
      ]
     },
     "execution_count": 9,
     "metadata": {},
     "output_type": "execute_result"
    }
   ],
   "source": [
    "sdfs = model(grid_coords * .3).reshape((-1, 3))\n",
    "sdfs\n"
   ]
  },
  {
   "cell_type": "code",
   "execution_count": 36,
   "metadata": {},
   "outputs": [
    {
     "data": {
      "text/plain": [
       "torch.Size([3, 3, 3, 3])"
      ]
     },
     "execution_count": 36,
     "metadata": {},
     "output_type": "execute_result"
    }
   ],
   "source": [
    "grid_coords.shape"
   ]
  },
  {
   "cell_type": "code",
   "execution_count": 11,
   "metadata": {},
   "outputs": [
    {
     "name": "stdout",
     "output_type": "stream",
     "text": [
      "torch.Size([6, 3])\n",
      "torch.Size([6])\n"
     ]
    }
   ],
   "source": [
    "n_grids = 6\n",
    "volume_centers = nn.Parameter(torch.rand((n_grids, 3)) * 2 - 1)  # Initialize randomly within [-1, 1]\n",
    "print(volume_centers.shape)\n",
    "\n",
    "scales = nn.Parameter(torch.rand((n_grids,)))\n",
    "print(scales.shape)"
   ]
  },
  {
   "cell_type": "code",
   "execution_count": 12,
   "metadata": {},
   "outputs": [
    {
     "data": {
      "text/plain": [
       "tensor([[ 0.1015,  0.0511, -0.0690],\n",
       "        [ 0.0241, -0.4002,  0.1895],\n",
       "        [-0.1182,  0.0408, -0.4072],\n",
       "        [-0.4465, -0.1329,  0.0760],\n",
       "        [ 0.2473,  0.0935, -0.0185],\n",
       "        [-0.0339, -0.0463, -0.0189]], grad_fn=<MulBackward0>)"
      ]
     },
     "execution_count": 12,
     "metadata": {},
     "output_type": "execute_result"
    }
   ],
   "source": [
    "volume_centers * scales[:, None]"
   ]
  },
  {
   "cell_type": "code",
   "execution_count": 13,
   "metadata": {},
   "outputs": [
    {
     "data": {
      "text/plain": [
       "Parameter containing:\n",
       "tensor([[ 0.9275,  0.4668, -0.6302],\n",
       "        [ 0.0537, -0.8938,  0.4233],\n",
       "        [-0.1877,  0.0648, -0.6466],\n",
       "        [-0.5596, -0.1665,  0.0953],\n",
       "        [ 0.3060,  0.1157, -0.0229],\n",
       "        [-0.5544, -0.7560, -0.3082]], requires_grad=True)"
      ]
     },
     "execution_count": 13,
     "metadata": {},
     "output_type": "execute_result"
    }
   ],
   "source": [
    "volume_centers"
   ]
  },
  {
   "cell_type": "code",
   "execution_count": 14,
   "metadata": {},
   "outputs": [
    {
     "data": {
      "text/plain": [
       "Parameter containing:\n",
       "tensor([0.1095, 0.4478, 0.6298, 0.7979, 0.8083, 0.0612], requires_grad=True)"
      ]
     },
     "execution_count": 14,
     "metadata": {},
     "output_type": "execute_result"
    }
   ],
   "source": [
    "scales"
   ]
  },
  {
   "cell_type": "code",
   "execution_count": 39,
   "metadata": {},
   "outputs": [],
   "source": [
    "grid_resolution = 3\n",
    "n_grids = 4  # Reduced for simplicity\n",
    "mosaic_sdf = MosaicSDF(grid_resolution=grid_resolution, n_grids=n_grids)\n",
    "# Customize initialization for testing\n",
    "# mosaic_sdf.volume_centers = nn.Parameter(torch.tensor([[0., 0., 0.], [1., 1., 1.], [-1., -1., -1.], [2., 2., 2.]]))\n",
    "volume_centers = torch.tensor([\n",
    "    [0.5, 0.5, 0.5], \n",
    "    # [-0.5, -0.5, -0.5], \n",
    "    # [0.5, -0.5, 0.5], \n",
    "    # [-0.5, 0.5, -0.5]\n",
    "    ])\n",
    "mosaic_sdf.volume_centers = nn.Parameter(volume_centers)\n",
    "\n",
    "scales = torch.ones((volume_centers.shape[0])) * 1\n",
    "mosaic_sdf.scales = nn.Parameter(scales)\n",
    "\n"
   ]
  },
  {
   "cell_type": "code",
   "execution_count": 57,
   "metadata": {},
   "outputs": [],
   "source": [
    "\n",
    "rel_positions = torch.linspace(-1, 1, steps=k, device=device)\n",
    "grid_coords = torch.stack(\n",
    "    torch.meshgrid(rel_positions, rel_positions, rel_positions, indexing='ij'), \n",
    "    dim=-1)\n",
    "\n",
    "# torch.norm(grid_coords, dim=-1, p=2)\n"
   ]
  },
  {
   "cell_type": "code",
   "execution_count": 58,
   "metadata": {},
   "outputs": [
    {
     "data": {
      "text/plain": [
       "tensor([[[-1., -1., -1.],\n",
       "         [-1., -1.,  0.],\n",
       "         [-1., -1.,  1.]],\n",
       "\n",
       "        [[-1.,  0., -1.],\n",
       "         [-1.,  0.,  0.],\n",
       "         [-1.,  0.,  1.]],\n",
       "\n",
       "        [[-1.,  1., -1.],\n",
       "         [-1.,  1.,  0.],\n",
       "         [-1.,  1.,  1.]]])"
      ]
     },
     "execution_count": 58,
     "metadata": {},
     "output_type": "execute_result"
    }
   ],
   "source": [
    "grid_coords[0]"
   ]
  },
  {
   "cell_type": "code",
   "execution_count": 41,
   "metadata": {},
   "outputs": [
    {
     "data": {
      "text/plain": [
       "tensor([[[0., 0., 0.],\n",
       "         [0., 0., 0.],\n",
       "         [0., 0., 0.]],\n",
       "\n",
       "        [[1., 1., 1.],\n",
       "         [1., 1., 1.],\n",
       "         [1., 1., 1.]],\n",
       "\n",
       "        [[2., 2., 2.],\n",
       "         [2., 2., 2.],\n",
       "         [2., 2., 2.]]])"
      ]
     },
     "execution_count": 41,
     "metadata": {},
     "output_type": "execute_result"
    }
   ],
   "source": [
    "sdf_values = torch.zeros((k,k,k))\n",
    "sdf_values[0, ...] = 0\n",
    "sdf_values[1, ...] = 1\n",
    "sdf_values[2, ...] = 2\n",
    "\n",
    "mosaic_sdf.register_buffer('mosaic_sdf_values', sdf_values)\n",
    "\n",
    "sdf_values"
   ]
  },
  {
   "cell_type": "code",
   "execution_count": 52,
   "metadata": {},
   "outputs": [],
   "source": [
    "# Test the forward function with a known input and check the output\n",
    "input_points = torch.tensor([\n",
    "    # [-1, -1, -1], \n",
    "\n",
    "    # [1., 1., 1.]\n",
    "    # [0, 0, 0], \n",
    "    # [2, 2, 2], \n",
    "    [0.5, .5, 0.5], \n",
    "    # [0.5, 0.5, 0.5], \n",
    "    # [-0.5, -0.5, -0.5], \n",
    "    ])\n",
    "expected_sdf_values = torch.tensor(\n",
    "    [\n",
    "        # 1,\n",
    "          1\n",
    "\n",
    "          ], \n",
    "    dtype=torch.float32)  # Fill in based on expected logic\n",
    "actual_sdf_values = mosaic_sdf(input_points)\n",
    "assert torch.allclose(expected_sdf_values, actual_sdf_values, atol=1e-6),  actual_sdf_values\n"
   ]
  },
  {
   "cell_type": "code",
   "execution_count": null,
   "metadata": {},
   "outputs": [],
   "source": [
    "\n",
    "init_mosaic_sdf_values = torch.zeros((volume_centers.shape[0], grid_resolution, grid_resolution, grid_resolution))\n",
    "init_mosaic_sdf_values[0] = torch.tensor([\n",
    "    []\n",
    "])\n",
    "# init_mosaic_sdf_values[1] += 2  # Second grid, SDF values of 2, and so on\n",
    "# init_mosaic_sdf_values[2] += 3\n",
    "# init_mosaic_sdf_values[3] += 4\n",
    "mosaic_sdf.register_buffer('mosaic_sdf_values', init_mosaic_sdf_values)\n",
    "\n"
   ]
  },
  {
   "cell_type": "code",
   "execution_count": null,
   "metadata": {},
   "outputs": [],
   "source": [
    "# Test the forward function with a known input and check the output\n",
    "input_points = torch.tensor([\n",
    "    # [0., 0., 0.], \n",
    "    # [1., 1., 1.]\n",
    "    [0.5, 0.5, 0.5], \n",
    "    [-0.5, -0.5, -0.5], \n",
    "    ])\n",
    "expected_sdf_values = torch.tensor(\n",
    "    [1, 0], \n",
    "    dtype=torch.float32)  # Fill in based on expected logic\n",
    "actual_sdf_values = mosaic_sdf(input_points)\n",
    "assertTrue(\n",
    "    torch.allclose(expected_sdf_values, actual_sdf_values, atol=1e-6), \n",
    "    actual_sdf_values)"
   ]
  },
  {
   "cell_type": "code",
   "execution_count": 61,
   "metadata": {},
   "outputs": [],
   "source": [
    "in_grid_offsets = torch.linspace(-1, 1, k)\n",
    "\n",
    "x, y, z = torch.meshgrid(in_grid_offsets, in_grid_offsets, in_grid_offsets, indexing='ij')\n",
    "\n",
    "grid_offsets = (\n",
    "    torch.stack([x, y, z], dim=-1)\n",
    "        .reshape((-1, 3))\n",
    "        .to(device)\n",
    ")\n",
    "# grid_offsets"
   ]
  },
  {
   "cell_type": "code",
   "execution_count": 62,
   "metadata": {},
   "outputs": [
    {
     "name": "stderr",
     "output_type": "stream",
     "text": [
      "/home/che/miniforge3/envs/gen3d/lib/python3.10/site-packages/torch/functional.py:504: UserWarning: torch.meshgrid: in an upcoming release, it will be required to pass the indexing argument. (Triggered internally at /home/conda/feedstock_root/build_artifacts/libtorch_1706712676143/work/aten/src/ATen/native/TensorShape.cpp:3526.)\n",
      "  return _VF.meshgrid(tensors, **kwargs)  # type: ignore[attr-defined]\n"
     ]
    },
    {
     "data": {
      "text/plain": [
       "tensor([[True, True, True],\n",
       "        [True, True, True],\n",
       "        [True, True, True],\n",
       "        [True, True, True],\n",
       "        [True, True, True],\n",
       "        [True, True, True],\n",
       "        [True, True, True],\n",
       "        [True, True, True],\n",
       "        [True, True, True],\n",
       "        [True, True, True],\n",
       "        [True, True, True],\n",
       "        [True, True, True],\n",
       "        [True, True, True],\n",
       "        [True, True, True],\n",
       "        [True, True, True],\n",
       "        [True, True, True],\n",
       "        [True, True, True],\n",
       "        [True, True, True],\n",
       "        [True, True, True],\n",
       "        [True, True, True],\n",
       "        [True, True, True],\n",
       "        [True, True, True],\n",
       "        [True, True, True],\n",
       "        [True, True, True],\n",
       "        [True, True, True],\n",
       "        [True, True, True],\n",
       "        [True, True, True]])"
      ]
     },
     "execution_count": 62,
     "metadata": {},
     "output_type": "execute_result"
    }
   ],
   "source": [
    "\n",
    "x, y, z = torch.meshgrid(in_grid_offsets, in_grid_offsets, in_grid_offsets)\n",
    "\n",
    "grid_offsets2 = (\n",
    "    torch.stack([x, y, z], dim=-1)\n",
    "        .reshape((-1, 3))\n",
    "        .to(device)\n",
    ")\n",
    "\n",
    "grid_offsets2 == grid_offsets"
   ]
  },
  {
   "cell_type": "code",
   "execution_count": null,
   "metadata": {},
   "outputs": [],
   "source": []
  }
 ],
 "metadata": {
  "kernelspec": {
   "display_name": "gen3d",
   "language": "python",
   "name": "python3"
  },
  "language_info": {
   "codemirror_mode": {
    "name": "ipython",
    "version": 3
   },
   "file_extension": ".py",
   "mimetype": "text/x-python",
   "name": "python",
   "nbconvert_exporter": "python",
   "pygments_lexer": "ipython3",
   "version": "3.10.13"
  }
 },
 "nbformat": 4,
 "nbformat_minor": 2
}
