{
 "cells": [
  {
   "cell_type": "code",
   "execution_count": 1,
   "metadata": {},
   "outputs": [],
   "source": [
    "import torch\n",
    "import numpy as np\n",
    "from skimage.measure import marching_cubes\n",
    "from pytorch3d.structures import Meshes\n",
    "from pytorch3d.io import save_obj\n",
    "from pytorch3d.renderer import (\n",
    "    look_at_view_transform,\n",
    "    FoVPerspectiveCameras,\n",
    "    PointLights,\n",
    "    RasterizationSettings,\n",
    "    MeshRenderer,\n",
    "    MeshRasterizer,\n",
    "    SoftPhongShader\n",
    ")\n",
    "\n",
    "from pytorch3d.renderer.mesh.textures import Textures\n",
    "from shape_sampler import ShapeSampler\n",
    "from pytorch3d.vis.plotly_vis import AxisArgs, plot_batch_individually, plot_scene\n",
    "\n",
    "from mosaic_sdf_visualizer import MosaicSDFVisualizer\n",
    "from utils_vis import copy_spheres_to_points"
   ]
  },
  {
   "cell_type": "code",
   "execution_count": 2,
   "metadata": {},
   "outputs": [],
   "source": [
    "import point_cloud_utils as pcu\n",
    "from pytorch3d.io import load_obj\n",
    "\n",
    "# Load vertices and faces for a mesh\n",
    "device = 'cuda'\n",
    "cow_mesh_path = 'data/cow_mesh/cow.obj'\n",
    "airplane_mesh_path = 'data/11803_Airplane_v1_l1.obj'\n",
    "mesh_path = airplane_mesh_path\n"
   ]
  },
  {
   "cell_type": "code",
   "execution_count": 3,
   "metadata": {},
   "outputs": [
    {
     "name": "stderr",
     "output_type": "stream",
     "text": [
      "/home/che/miniforge3/envs/gen3d/lib/python3.10/site-packages/point_cloud_utils/_mesh_io.py:338: RuntimeWarning: TinyObjReader: Both `d` and `Tr` parameters defined for \"11803_Airplane_body\". Use the value of `d` for dissolve (line 8 in .mtl.)\n",
      "Both `d` and `Tr` parameters defined for \"11803_Airplane_wing_R\". Use the value of `d` for dissolve (line 22 in .mtl.)\n",
      "Both `d` and `Tr` parameters defined for \"11803_Airplane_wing_details_R\". Use the value of `d` for dissolve (line 36 in .mtl.)\n",
      "Both `d` and `Tr` parameters defined for \"11803_Airplane_tail\". Use the value of `d` for dissolve (line 50 in .mtl.)\n",
      "Both `d` and `Tr` parameters defined for \"11803_Airplane_wing_details_L\". Use the value of `d` for dissolve (line 64 in .mtl.)\n",
      "Both `d` and `Tr` parameters defined for \"11803_Airplane_wing_L\". Use the value of `d` for dissolve (line 78 in .mtl.)\n",
      "\n",
      "  mesh_dict = load_mesh_internal(mesh_filename, dtype)\n"
     ]
    }
   ],
   "source": [
    "shape_sampler = ShapeSampler.from_file(mesh_path, device='cuda',     \n",
    "                                        normalize_shape=True,\n",
    "                                       make_watertight=True)\n"
   ]
  },
  {
   "cell_type": "code",
   "execution_count": 4,
   "metadata": {},
   "outputs": [
    {
     "data": {
      "text/plain": [
       "tensor([ 1.2156, -0.0997,  0.5619])"
      ]
     },
     "execution_count": 4,
     "metadata": {},
     "output_type": "execute_result"
    }
   ],
   "source": [
    "p = torch.tensor([\n",
    "    [-.99,-.99,-.99],\n",
    "    [0,0,0],\n",
    "    [.5,.5,.5]\n",
    "], dtype=torch.float32)\n",
    "\n",
    "shape_sampler(p)"
   ]
  },
  {
   "cell_type": "code",
   "execution_count": 5,
   "metadata": {},
   "outputs": [
    {
     "data": {
      "text/plain": [
       "torch.return_types.max(\n",
       "values=tensor([0.9491, 1.0000, 0.3834], device='cuda:0', dtype=torch.float64),\n",
       "indices=tensor([23071, 14200,  7655], device='cuda:0'))"
      ]
     },
     "execution_count": 5,
     "metadata": {},
     "output_type": "execute_result"
    }
   ],
   "source": [
    "shape_sampler.vertices.max(axis=0)"
   ]
  },
  {
   "cell_type": "code",
   "execution_count": null,
   "metadata": {},
   "outputs": [],
   "source": [
    "\n",
    "v_pcu, f_pcu = pcu.load_mesh_vf(mesh_path)\n",
    "v_pcu -= np.array([.1,0,0])\n",
    "\n",
    "source_mesh_pcu = MosaicSDFVisualizer.create_mesh_from_verts(v_pcu, f_pcu, vert_colors = [.8, 0, 0], device=device)\n",
    "\n",
    "vertices_pt, faces_pt, aux = load_obj(mesh_path, device=device)\n",
    "vertices_pt += np.array([.1,0,0])\n",
    "source_mesh_pt = MosaicSDFVisualizer.create_mesh_from_verts(vertices_pt, faces_pt.verts_idx, vert_colors = [0, 0, 0], device=device)\n",
    "\n",
    "# Render the plotly figure\n",
    "fig = plot_scene({\n",
    "    \"subplot1\": {\n",
    "        \"mesh_pcu\": source_mesh_pcu,\n",
    "        \"mesh_pt\": source_mesh_pt\n",
    "    }\n",
    "})\n",
    "fig.show()    "
   ]
  },
  {
   "cell_type": "code",
   "execution_count": null,
   "metadata": {},
   "outputs": [],
   "source": [
    "resolution = 20_000\n",
    "rand_samples = 1024\n",
    "v_watertight, f_watertight = pcu.make_mesh_watertight(v_pcu, f_pcu, resolution=resolution)\n",
    "\n",
    "rand_points_on_surface_idx = torch.randperm(resolution)[:rand_samples]\n",
    "rand_points_on_surface = v_watertight[rand_points_on_surface_idx]\n",
    "\n",
    "wt_mesh = MosaicSDFVisualizer.create_mesh_from_verts(v_watertight, f_watertight, vert_colors = [0, 0, .8], device=device)\n",
    "\n",
    "# Render the plotly figure\n",
    "fig = plot_scene({\n",
    "    \"subplot1\": {\n",
    "        \"mesh\": wt_mesh\n",
    "    }\n",
    "})\n",
    "fig.show() "
   ]
  },
  {
   "cell_type": "code",
   "execution_count": null,
   "metadata": {},
   "outputs": [],
   "source": [
    "copy_spheres_to_points(rand_points_on_surface, source_mesh_pcu, device)\n"
   ]
  },
  {
   "cell_type": "code",
   "execution_count": null,
   "metadata": {},
   "outputs": [],
   "source": [
    "# rand_samples = v_watertight.shape[0] * 40\n",
    "\n",
    "f_i, bc = pcu.sample_mesh_random(v_watertight, f_watertight, num_samples=rand_samples,\n",
    "                                 random_seed=42)\n",
    "\n",
    "# Use the face indices and barycentric coordinate to compute sample positions and normals\n",
    "v_sampled = pcu.interpolate_barycentric_coords(f_watertight, f_i, bc, v_watertight)\n",
    "v_sampled"
   ]
  },
  {
   "cell_type": "code",
   "execution_count": null,
   "metadata": {},
   "outputs": [],
   "source": []
  },
  {
   "cell_type": "code",
   "execution_count": null,
   "metadata": {},
   "outputs": [],
   "source": [
    "def create_mesh_from_verts(vertices, faces, device, vert_colors=[1,0,0]):\n",
    "    total_verts = vertices.shape[0]\n",
    "    verts_rgb = torch.ones((1, total_verts, 3), device=device)  # White color for all vertices\n",
    "    verts_rgb *= torch.tensor(vert_colors, device=device)\n",
    "    # Initialize the textures with the corrected verts_rgb\n",
    "    textures = Textures(verts_rgb=verts_rgb)\n",
    "\n",
    "    # Create the mesh\n",
    "    return Meshes(verts=[vertices.to(device)], faces=[faces.to(device)], \n",
    "                    textures=textures).to(device)\n"
   ]
  },
  {
   "cell_type": "code",
   "execution_count": null,
   "metadata": {},
   "outputs": [],
   "source": [
    "from pysdf import SDF\n",
    "\n",
    "# Load some mesh (don't necessarily need trimesh)\n",
    "import trimesh\n",
    "o = trimesh.load('data/cow_mesh/cow.obj')\n",
    "\n",
    "\n",
    "device = 'cpu'\n",
    "\n",
    "verts = torch.tensor(o.vertices.copy(), dtype=torch.float32)\n",
    "verts, target_mean, target_max_vertex = ShapeSampler.normalize_vertices(verts)\n",
    "\n",
    "f = SDF(verts.numpy(), o.faces); # (num_vertices, 3) and (num_faces, 3)\n",
    "\n",
    "faces = torch.tensor(o.faces.copy(), dtype=torch.int64)\n",
    "cow_mesh = create_mesh_from_verts(verts, faces, device, [0, 0, 1])\n",
    "\n",
    "print(verts.min(axis=0))\n",
    "print(verts.max(axis=0))\n",
    "\n",
    "# Render the plotly figure\n",
    "fig = plot_scene({\n",
    "    \"subplot1\": {\n",
    "        \"mesh\": cow_mesh\n",
    "    }\n",
    "})\n",
    "fig.show()    \n",
    "# # Compute some SDF values (negative outside);\n",
    "# # takes a (num_points, 3) array, converts automatically\n",
    "# origin_sdf = f([0, 0, 0])\n",
    "# sdf_multi_point = f([[0, 0, 0],[1,1,1],[0.1,0.2,0.2]])\n",
    "\n",
    "# # Contains check\n",
    "# origin_contained = f.contains([0, 0, 0])\n",
    "\n",
    "# # Misc: nearest neighbor\n",
    "# origin_nn = f.nn([0, 0, 0])\n",
    "\n",
    "# # Misc: uniform surface point sampling\n",
    "# random_surface_points = f.sample_surface(10000)\n",
    "\n",
    "# # Misc: surface area\n",
    "# the_surface_area = f.surface_area"
   ]
  },
  {
   "cell_type": "code",
   "execution_count": null,
   "metadata": {},
   "outputs": [],
   "source": [
    "sdf_mesh = MosaicSDFVisualizer.rasterize_sdf(sdf_func=f, resolution=16,\n",
    "                                             sdf_scaler=-1, extra_sdf_offset=[1,0,0])\n"
   ]
  },
  {
   "cell_type": "markdown",
   "metadata": {},
   "source": []
  },
  {
   "cell_type": "code",
   "execution_count": null,
   "metadata": {},
   "outputs": [],
   "source": [
    "# Initialize a renderer\n",
    "R, T = look_at_view_transform(5, 45, 15)\n",
    "cameras = FoVPerspectiveCameras(device=device, R=R, T=T)\n",
    "raster_settings = RasterizationSettings(image_size=512)\n",
    "lights = PointLights(device=device, location=[[0.0, 0.0, -3.0]])\n",
    "\n",
    "renderer = MeshRenderer(\n",
    "    rasterizer=MeshRasterizer(cameras=cameras, raster_settings=raster_settings),\n",
    "    shader=SoftPhongShader(device=device, cameras=cameras, lights=lights)\n",
    ")\n",
    "\n",
    "# Render the mesh\n",
    "\n",
    "\n",
    "with torch.no_grad():\n",
    "    images = renderer(sdf_mesh.to(device))\n",
    "\n",
    "    # vis.shape\n",
    "    plt.figure(figsize=(4, 4))\n",
    "    plt.imshow(images[0, ..., :3].cpu().numpy())\n",
    "    plt.axis(\"off\")\n",
    "\n",
    "# images\n"
   ]
  },
  {
   "cell_type": "code",
   "execution_count": null,
   "metadata": {},
   "outputs": [],
   "source": [
    "from pytorch3d.vis.plotly_vis import AxisArgs, plot_batch_individually, plot_scene\n",
    "# Render the plotly figure\n",
    "fig = plot_scene({\n",
    "    \"subplot1\": {\n",
    "        \"mesh\": sdf_mesh,\n",
    "        \"cow\": cow_mesh\n",
    "    }\n",
    "})\n",
    "fig.show()    "
   ]
  },
  {
   "cell_type": "code",
   "execution_count": null,
   "metadata": {},
   "outputs": [],
   "source": []
  }
 ],
 "metadata": {
  "kernelspec": {
   "display_name": "gen3d",
   "language": "python",
   "name": "python3"
  },
  "language_info": {
   "codemirror_mode": {
    "name": "ipython",
    "version": 3
   },
   "file_extension": ".py",
   "mimetype": "text/x-python",
   "name": "python",
   "nbconvert_exporter": "python",
   "pygments_lexer": "ipython3",
   "version": "3.10.13"
  }
 },
 "nbformat": 4,
 "nbformat_minor": 2
}
