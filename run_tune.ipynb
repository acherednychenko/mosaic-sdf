{
 "cells": [
  {
   "cell_type": "code",
   "execution_count": 1,
   "metadata": {},
   "outputs": [],
   "source": [
    "import torch\n",
    "import torch.nn as nn\n",
    "import numpy as np\n",
    "\n",
    "from einops import rearrange\n",
    "\n",
    "from mosaic_sdf import MosaicSDF\n",
    "from shape_sampler import ShapeSampler\n",
    "from optimizer import MosaicSDFOptimizer\n",
    "from mosaic_sdf_visualizer import MosaicSDFVisualizer\n",
    "\n",
    "from pytorch3d.vis.plotly_vis import AxisArgs, plot_batch_individually, plot_scene"
   ]
  },
  {
   "cell_type": "code",
   "execution_count": 2,
   "metadata": {},
   "outputs": [],
   "source": [
    "cube_mesh_path = 'data/cube.obj'\n",
    "teapot_mesh_path = 'data/utah_teapot.obj'\n",
    "cow_mesh_path = 'data/cow_mesh/cow.obj'\n",
    "\n",
    "cube_wireframe_path = 'data/cube_wireframe.obj'\n",
    "\n",
    "sdf_shape_path = teapot_mesh_path"
   ]
  },
  {
   "cell_type": "code",
   "execution_count": 3,
   "metadata": {},
   "outputs": [],
   "source": [
    "device = torch.device(\"cuda:0\" if torch.cuda.is_available() else \"cpu\")\n"
   ]
  },
  {
   "cell_type": "code",
   "execution_count": 4,
   "metadata": {},
   "outputs": [
    {
     "name": "stderr",
     "output_type": "stream",
     "text": [
      "/home/che/miniforge3/envs/gen3d/lib/python3.10/site-packages/point_cloud_utils/_mesh_io.py:338: RuntimeWarning: TinyObjReader: Empty group name. line: 6\n",
      "Empty group name. line: 6475\n",
      "\n",
      "  mesh_dict = load_mesh_internal(mesh_filename, dtype)\n",
      "/home/che/miniforge3/envs/gen3d/lib/python3.10/site-packages/ray/tune/trainable/trainable.py:695: RayDeprecationWarning: This API is deprecated and may be removed in future Ray releases. You could suppress this warning by setting env variable PYTHONWARNINGS=\"ignore::DeprecationWarning\"\n",
      "`UnifiedLogger` will be removed in Ray 2.7.\n",
      "  self._result_logger = UnifiedLogger(config, self._logdir, loggers=None)\n",
      "/home/che/miniforge3/envs/gen3d/lib/python3.10/site-packages/ray/tune/logger/unified.py:53: RayDeprecationWarning: This API is deprecated and may be removed in future Ray releases. You could suppress this warning by setting env variable PYTHONWARNINGS=\"ignore::DeprecationWarning\"\n",
      "The `JsonLogger interface is deprecated in favor of the `ray.tune.json.JsonLoggerCallback` interface and will be removed in Ray 2.7.\n",
      "  self._loggers.append(cls(self.config, self.logdir, self.trial))\n",
      "/home/che/miniforge3/envs/gen3d/lib/python3.10/site-packages/ray/tune/logger/unified.py:53: RayDeprecationWarning: This API is deprecated and may be removed in future Ray releases. You could suppress this warning by setting env variable PYTHONWARNINGS=\"ignore::DeprecationWarning\"\n",
      "The `CSVLogger interface is deprecated in favor of the `ray.tune.csv.CSVLoggerCallback` interface and will be removed in Ray 2.7.\n",
      "  self._loggers.append(cls(self.config, self.logdir, self.trial))\n",
      "/home/che/miniforge3/envs/gen3d/lib/python3.10/site-packages/ray/tune/logger/unified.py:53: RayDeprecationWarning: This API is deprecated and may be removed in future Ray releases. You could suppress this warning by setting env variable PYTHONWARNINGS=\"ignore::DeprecationWarning\"\n",
      "The `TBXLogger interface is deprecated in favor of the `ray.tune.tensorboardx.TBXLoggerCallback` interface and will be removed in Ray 2.7.\n",
      "  self._loggers.append(cls(self.config, self.logdir, self.trial))\n"
     ]
    }
   ],
   "source": [
    "shape_sampler = ShapeSampler.from_file(sdf_shape_path, device='cuda')\n",
    "\n",
    "config = {   \n",
    "    'device': device,\n",
    "    # 'shape_sampler': shape_sampler,  # Adjust accordingly\n",
    "    'shape_path': sdf_shape_path,  # Adjust accordingly\n",
    "    \n",
    "    # mosaicSDF params\n",
    "    'grid_resolution': 7,\n",
    "    # 'n_grids': 1024,\n",
    "    'n_grids': 128,\n",
    "    # 'n_grids': 8,\n",
    "    'points_random_spread': .03,\n",
    "    'mosaic_scale_multiplier': 3,\n",
    "    \n",
    "    # optimizer params\n",
    "    # TODO play with Adam params\n",
    "    'lr': 1e-4,\n",
    "    'weight_decay': 0.0,\n",
    "\n",
    "    'lambda_val': .1,\n",
    "    \n",
    "    \n",
    "    # optimization params\n",
    "    'points_in_epoch': 2048,\n",
    "    'points_sample_size': 32,\n",
    "    'gradient_accumulation_steps': 1,\n",
    "\n",
    "    'eval_every_nth_points': 256,\n",
    "    'val_size': 512,\n",
    "    'points_sample_size_eval_scaler': 4, # can sample faster during eval\n",
    "\n",
    "    'project_name': 'mosaicSDF_smoke',\n",
    "    'log_to_wandb': False, \n",
    "\n",
    "    # other debug stuff\n",
    "    'output_graph': False,\n",
    "    'points_random_sampling': False\n",
    "}\n",
    "\n",
    "optimizer = MosaicSDFOptimizer(config)\n",
    "\n",
    "optimizer.model.update_sdf_values(shape_sampler)\n"
   ]
  },
  {
   "cell_type": "code",
   "execution_count": 5,
   "metadata": {},
   "outputs": [
    {
     "name": "stdout",
     "output_type": "stream",
     "text": [
      "\n",
      "Iteration 7, val Loss: 0.0087, val L1: 0.0057, val L2: 0.0361 ||| train Loss: 0.0129 train L1: 0.0055, train L2: 0.0804 \n",
      "Iteration 15, val Loss: 0.0088, val L1: 0.0057, val L2: 0.0362 ||| train Loss: 0.0124 train L1: 0.0061, train L2: 0.0690 \n",
      "Iteration 23, val Loss: 0.0088, val L1: 0.0057, val L2: 0.0362 ||| train Loss: 0.0130 train L1: 0.0062, train L2: 0.0738 \n",
      "Iteration 31, val Loss: 0.0087, val L1: 0.0057, val L2: 0.0362 ||| train Loss: 0.0123 train L1: 0.0064, train L2: 0.0649 \n",
      "Iteration 39, val Loss: 0.0087, val L1: 0.0057, val L2: 0.0361 ||| train Loss: 0.0136 train L1: 0.0065, train L2: 0.0776 \n",
      "Iteration 47, val Loss: 0.0087, val L1: 0.0057, val L2: 0.0360 ||| train Loss: 0.0141 train L1: 0.0078, train L2: 0.0710 \n",
      "Iteration 55, val Loss: 0.0087, val L1: 0.0057, val L2: 0.0360 ||| train Loss: 0.0123 train L1: 0.0055, train L2: 0.0736 \n",
      "Iteration 63, val Loss: 0.0088, val L1: 0.0057, val L2: 0.0361 ||| train Loss: 0.0142 train L1: 0.0066, train L2: 0.0830 "
     ]
    },
    {
     "data": {
      "text/plain": [
       "{'step': 63,\n",
       " 'train_loss': 0.014231725514533371,\n",
       " 'train_l1_loss': 0.006592273684545699,\n",
       " 'train_l2_loss': 0.08298679198442242,\n",
       " 'val_loss': 0.008750413182970058,\n",
       " 'val_l1_loss': 0.005709825562347014,\n",
       " 'val_l2_loss': 0.03611570176857744,\n",
       " 'epoch_time': 3.2728707790374756}"
      ]
     },
     "execution_count": 5,
     "metadata": {},
     "output_type": "execute_result"
    }
   ],
   "source": [
    "optimizer.step()"
   ]
  },
  {
   "cell_type": "code",
   "execution_count": null,
   "metadata": {},
   "outputs": [],
   "source": [
    "\n",
    "visualizer = MosaicSDFVisualizer(optimizer.model, optimizer.shape_sampler, \n",
    "    device, template_mesh_path=cube_wireframe_path)#, requires_grad=False)\n",
    "\n",
    "# visualizer.plot_meshes()"
   ]
  },
  {
   "cell_type": "code",
   "execution_count": null,
   "metadata": {},
   "outputs": [],
   "source": [
    "def compare_shapes(resolution = 32, show_mosaic_grids = False):\n",
    "\n",
    "    with torch.no_grad():\n",
    "\n",
    "        gt_sdf_mesh = MosaicSDFVisualizer.rasterize_sdf(\n",
    "            sdf_func=shape_sampler.forward, resolution=resolution, sdf_scaler=-1, \n",
    "            extra_sdf_offset=[2,0, 0], vert_colors=[0, .5, 0])\n",
    "\n",
    "        gt_mesh = visualizer.create_state_meshes(\n",
    "            show_mosaic_grids=False,\n",
    "            show_target_mesh=True,\n",
    "            show_boundary_mesh=False,\n",
    "            resolution=resolution,\n",
    "            show_rasterized_sdf_mesh=False,\n",
    "            vert_colors=[0, 0, .5],\n",
    "            offset_vertices=torch.tensor([-2,0,0], device=device)\n",
    "            )\n",
    "        \n",
    "        meshes = visualizer.create_state_meshes(\n",
    "            show_mosaic_grids=show_mosaic_grids,\n",
    "            show_target_mesh=False,\n",
    "            show_boundary_mesh=False,\n",
    "            resolution=resolution,\n",
    "            vert_colors=[.5, .5, 0]\n",
    "            )\n",
    "        \n",
    "        # Render the plotly figure\n",
    "        fig = plot_scene({\n",
    "            \"subplot1\": {\n",
    "                \"mesh\": meshes,\n",
    "                'gt_sdf_mesh': gt_sdf_mesh,\n",
    "                'gt_mesh': gt_mesh\n",
    "            }\n",
    "        })\n",
    "        fig.show()    \n",
    "    \n"
   ]
  },
  {
   "cell_type": "code",
   "execution_count": null,
   "metadata": {},
   "outputs": [],
   "source": [
    "# compare_shapes(32, show_mosaic_grids=False)\n",
    "compare_shapes(32, show_mosaic_grids=False)"
   ]
  },
  {
   "cell_type": "code",
   "execution_count": null,
   "metadata": {},
   "outputs": [],
   "source": [
    "\n",
    "# Assuming you're not using a data loader for training\n",
    "optimizer.train()  # Pass None or adjust `train` method to not require `train_loader`\n",
    "\n",
    "\n",
    "\n",
    "# I am also not sure autograd is what we need, how it works in this case at all?\n",
    "\n",
    "# # To save the optimized model\n",
    "# optimizer.save_checkpoint('path/to/save/checkpoint')\n",
    "\n",
    "# # To load an existing model\n",
    "# optimizer.load_checkpoint('path/to/existing/checkpoint.pth')\n"
   ]
  },
  {
   "cell_type": "code",
   "execution_count": null,
   "metadata": {},
   "outputs": [],
   "source": [
    "compare_shapes(32)"
   ]
  },
  {
   "cell_type": "code",
   "execution_count": null,
   "metadata": {},
   "outputs": [],
   "source": [
    "# if True:\n",
    "#     with torch.no_grad():\n",
    "#         meshes = visualizer.create_state_meshes(\n",
    "#             show_mosaic_grids=False,\n",
    "#             show_target_mesh=False,\n",
    "#             resolution=16\n",
    "#             )\n",
    "        \n",
    "#         # Render the plotly figure\n",
    "#         fig = plot_scene({\n",
    "#             \"subplot1\": {\n",
    "#                 \"mesh\": meshes\n",
    "#             }\n",
    "#         })\n",
    "#         fig.show()    \n",
    "    \n"
   ]
  },
  {
   "cell_type": "code",
   "execution_count": null,
   "metadata": {},
   "outputs": [],
   "source": []
  },
  {
   "cell_type": "code",
   "execution_count": null,
   "metadata": {},
   "outputs": [],
   "source": [
    "# with torch.no_grad():\n",
    "#     resolution = 8\n",
    "#     grid_points = torch.stack(torch.meshgrid(\n",
    "#             torch.linspace(-1, 1, resolution),\n",
    "#             torch.linspace(-1, 1, resolution),\n",
    "#             torch.linspace(-1, 1, resolution)\n",
    "#         ), dim=-1).reshape(-1, 3)#.to(device)\n",
    "\n",
    "#     sdf_values = optimizer.model(grid_points.to(device))"
   ]
  },
  {
   "cell_type": "code",
   "execution_count": null,
   "metadata": {},
   "outputs": [],
   "source": [
    "sdf_meshes._verts_list"
   ]
  },
  {
   "cell_type": "code",
   "execution_count": null,
   "metadata": {},
   "outputs": [],
   "source": [
    "import torch\n",
    "import numpy as np\n",
    "from skimage.measure import marching_cubes\n",
    "from pytorch3d.structures import Meshes\n",
    "from pytorch3d.io import save_obj\n",
    "from pytorch3d.renderer import (\n",
    "    look_at_view_transform,\n",
    "    FoVPerspectiveCameras,\n",
    "    PointLights,\n",
    "    RasterizationSettings,\n",
    "    MeshRenderer,\n",
    "    MeshRasterizer,\n",
    "    SoftPhongShader\n",
    ")\n",
    "mosaic_sdf = optimizer.model\n",
    "resolution = 16\n",
    "\n",
    "# Assuming 'mosaic_sdf' is your MosaicSDF instance and 'resolution' is the desired grid resolution\n",
    "grid_points = torch.stack(torch.meshgrid(\n",
    "    torch.linspace(-1, 1, resolution),\n",
    "    torch.linspace(-1, 1, resolution),\n",
    "    torch.linspace(-1, 1, resolution)\n",
    "), dim=-1).reshape(-1, 3).to(config['device'])\n",
    "\n",
    "# Get the SDF values at these points\n",
    "sdf_values = mosaic_sdf(grid_points).detach().cpu().numpy()\n",
    "sdf_volume = sdf_values.reshape(resolution, resolution, resolution)\n",
    "sdf_volume.shape"
   ]
  },
  {
   "cell_type": "code",
   "execution_count": null,
   "metadata": {},
   "outputs": [],
   "source": [
    "grid_points.shape"
   ]
  },
  {
   "cell_type": "code",
   "execution_count": null,
   "metadata": {},
   "outputs": [],
   "source": [
    "\n",
    "# Run marching cubes to get vertices, faces, and normals\n",
    "verts, faces, normals, _ = marching_cubes(sdf_volume, level=0)\n",
    "faces = faces + 1  # skimage has 0-indexed faces, while PyTorch3D expects 1-indexed\n",
    "\n",
    "# Convert to PyTorch tensors\n",
    "verts = torch.tensor(verts, dtype=torch.float32)\n",
    "faces = torch.tensor(faces, dtype=torch.int64)\n",
    "\n",
    "# Create a PyTorch3D mesh\n",
    "mesh = Meshes(verts=[verts], faces=[faces])\n",
    "\n",
    "# Initialize a renderer\n",
    "R, T = look_at_view_transform(2.7, 0, 90)\n",
    "cameras = FoVPerspectiveCameras(device=device, R=R, T=T)\n",
    "raster_settings = RasterizationSettings(image_size=512)\n",
    "lights = PointLights(device=device, location=[[0.0, 0.0, -3.0]])\n",
    "\n",
    "renderer = MeshRenderer(\n",
    "    rasterizer=MeshRasterizer(cameras=cameras, raster_settings=raster_settings),\n",
    "    shader=SoftPhongShader(device=device, cameras=cameras, lights=lights)\n",
    ")\n",
    "\n",
    "# Render the mesh\n",
    "images = renderer(mesh)\n"
   ]
  },
  {
   "cell_type": "code",
   "execution_count": null,
   "metadata": {},
   "outputs": [],
   "source": [
    "num_check_x = torch.rand((3, 3))\n",
    "forward = lambda x: torch.sum(x ** 2, axis=1)\n",
    "\n",
    "num_grad = optimizer.compute_gradient_numerically(num_check_x, forward)"
   ]
  },
  {
   "cell_type": "code",
   "execution_count": null,
   "metadata": {},
   "outputs": [],
   "source": [
    "num_grad"
   ]
  },
  {
   "cell_type": "code",
   "execution_count": null,
   "metadata": {},
   "outputs": [],
   "source": [
    "num_check_x * 2"
   ]
  },
  {
   "cell_type": "code",
   "execution_count": null,
   "metadata": {},
   "outputs": [],
   "source": [
    "\n",
    "# Define the quadratic function\n",
    "def quadratic_function(points):\n",
    "    return torch.sum(points ** 2, dim=-1)\n",
    "\n",
    "# Known analytical gradients for the quadratic function\n",
    "def analytical_gradients(points):\n",
    "    return 2 * points\n",
    "\n",
    "# Define points for which to compute gradients\n",
    "points = torch.tensor([[1.0, 2.0, 3.0],\n",
    "                       [4.0, 5.0, 6.0],\n",
    "                       [7.0, 8.0, 9.0]], requires_grad=True)\n",
    "\n",
    "# Compute the function output\n",
    "function_output = quadratic_function(points)\n",
    "\n",
    "# Compute analytical gradients\n",
    "true_gradients = analytical_gradients(points)\n",
    "\n",
    "# Compute gradients using autograd\n",
    "function_output.backward(torch.ones_like(function_output))\n",
    "autograd_gradients = points.grad\n",
    "\n",
    "# Compute gradients using the numerical method\n",
    "numerical_gradients = optimizer.compute_gradient_numerically(points, quadratic_function, delta=1e-2)\n",
    "\n",
    "# Compare numerical gradients to true gradients\n",
    "gradient_difference = torch.abs(numerical_gradients - true_gradients)\n",
    "\n",
    "print(\"True gradients:\\n\", true_gradients)\n",
    "print(\"Autograd gradients:\\n\", autograd_gradients)\n",
    "print(\"Numerical gradients:\\n\", numerical_gradients)\n",
    "print(\"Gradient difference:\\n\", gradient_difference)\n",
    "\n",
    "# Check if the numerical gradients are close to the true gradients\n",
    "assert torch.allclose(numerical_gradients, true_gradients, atol=1e-3), \"Numerical gradients do not match true gradients closely enough.\"\n"
   ]
  },
  {
   "cell_type": "code",
   "execution_count": null,
   "metadata": {},
   "outputs": [],
   "source": [
    "## test vars\n",
    "\n",
    "volume_centers = torch.tensor([\n",
    "    [0.1, 0, 0.5], \n",
    "    [0.5, 0.2, 0], \n",
    "    [0.7, 0.1, 0.6], \n",
    "    [1, 1, .5], \n",
    "])\n",
    "\n",
    "scales = torch.tensor([1, 1, 1, .4])\n",
    "\n",
    "points = torch.tensor([\n",
    "    [0.5, 0.5, 0], \n",
    "    [1, 0, .5], \n",
    "])\n",
    "\n",
    "k = 7\n",
    "\n",
    "sdf_values = torch.rand((scales.shape[0], k, k ,k))\n"
   ]
  },
  {
   "cell_type": "code",
   "execution_count": null,
   "metadata": {},
   "outputs": [],
   "source": []
  },
  {
   "cell_type": "code",
   "execution_count": null,
   "metadata": {},
   "outputs": [],
   "source": [
    "# # Using the updated ShapeSampler class\n",
    "# shape_sampler = ShapeSampler(\"sphere\")\n",
    "# center = torch.tensor([0.0, 0.0, 0.0])\n",
    "# scale = 2.0\n",
    "\n",
    "# # Compute local SDF values\n",
    "# local_sdf_values = compute_local_sdf(shape_sampler, center, scale, grid_resolution=3)\n",
    "# print(local_sdf_values.shape) "
   ]
  },
  {
   "cell_type": "code",
   "execution_count": null,
   "metadata": {},
   "outputs": [],
   "source": []
  }
 ],
 "metadata": {
  "kernelspec": {
   "display_name": "Python 3 (ipykernel)",
   "language": "python",
   "name": "python3"
  },
  "language_info": {
   "codemirror_mode": {
    "name": "ipython",
    "version": 3
   },
   "file_extension": ".py",
   "mimetype": "text/x-python",
   "name": "python",
   "nbconvert_exporter": "python",
   "pygments_lexer": "ipython3",
   "version": "3.10.13"
  }
 },
 "nbformat": 4,
 "nbformat_minor": 2
}
