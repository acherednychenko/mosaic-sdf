{
 "cells": [
  {
   "cell_type": "code",
   "execution_count": null,
   "metadata": {},
   "outputs": [],
   "source": [
    "import torch\n",
    "import torch.nn as nn\n",
    "import numpy as np\n",
    "\n",
    "from einops import rearrange\n",
    "\n",
    "from mosaic_sdf import MosaicSDF\n",
    "from shape_sampler import ShapeSampler\n",
    "from optimizer import MosaicSDFOptimizer\n",
    "from mosaic_sdf_visualizer import MosaicSDFVisualizer\n",
    "\n",
    "from pytorch3d.vis.plotly_vis import AxisArgs, plot_batch_individually, plot_scene"
   ]
  },
  {
   "cell_type": "code",
   "execution_count": null,
   "metadata": {},
   "outputs": [],
   "source": [
    "\n",
    "def get_sdf(p):\n",
    "    \n",
    "    # print(p.shape)\n",
    "    s = 1 - np.linalg.norm(p, ord=2, axis=-1)\n",
    "    # print(s.shape)\n",
    "    return -s\n",
    "\n",
    "# model.update_sdf_values(get_sdf)"
   ]
  },
  {
   "cell_type": "code",
   "execution_count": null,
   "metadata": {},
   "outputs": [],
   "source": [
    "# device = torch.device(\"cuda:0\" if torch.cuda.is_available() else \"cpu\")\n",
    "\n",
    "device = 'cpu'\n",
    "k = 7\n",
    "n_grids = 1\n",
    "volume_centers = torch.tensor([\n",
    "    [0,0,0]\n",
    "    ], dtype=torch.float32)\n",
    "volume_scales = torch.tensor([1], dtype=torch.float32)\n",
    "\n",
    "cube_wireframe_path = 'data/cube_wireframe.obj'\n",
    "cow_mesh_path = 'data/cow_mesh/cow.obj'\n",
    "\n",
    "shape_sampler = ShapeSampler.from_file(cow_mesh_path, sdf_func=get_sdf)\n",
    "\n",
    "model = MosaicSDF(\n",
    "    grid_resolution=k,\n",
    "    n_grids=n_grids,\n",
    "    volume_centers=volume_centers,\n",
    "    volume_scales=volume_scales\n",
    ").to(device)\n",
    "\n",
    "model.update_sdf_values(shape_sampler)"
   ]
  },
  {
   "cell_type": "code",
   "execution_count": null,
   "metadata": {},
   "outputs": [],
   "source": [
    "model.mosaic_sdf_values"
   ]
  },
  {
   "cell_type": "code",
   "execution_count": null,
   "metadata": {},
   "outputs": [],
   "source": [
    "\n",
    "visualizer = MosaicSDFVisualizer(model, shape_sampler, \n",
    "    device, template_mesh_path=cube_wireframe_path)#, requires_grad=False)\n",
    "\n",
    "# visualizer.plot_meshes()"
   ]
  },
  {
   "cell_type": "code",
   "execution_count": null,
   "metadata": {},
   "outputs": [],
   "source": [
    "input_points = torch.tensor([\n",
    "    [-.5,-.5,0]\n",
    "    ], dtype=torch.float32)\n",
    "\n",
    "model(input_points)"
   ]
  },
  {
   "cell_type": "code",
   "execution_count": null,
   "metadata": {},
   "outputs": [],
   "source": []
  },
  {
   "cell_type": "code",
   "execution_count": null,
   "metadata": {},
   "outputs": [],
   "source": []
  },
  {
   "cell_type": "code",
   "execution_count": null,
   "metadata": {},
   "outputs": [],
   "source": [
    "resolution=5\n",
    "grid_points = torch.stack(torch.meshgrid(\n",
    "    torch.linspace(-1, 1, resolution),\n",
    "    torch.linspace(-1, 1, resolution),\n",
    "    torch.linspace(-1, 1, resolution), indexing='ij'\n",
    "), dim=-1).reshape(-1, 3)#.to(device)\n",
    "\n",
    "# print(grid_points.shape)\n",
    "model(grid_points).reshape(-1, resolution, resolution)"
   ]
  },
  {
   "cell_type": "code",
   "execution_count": null,
   "metadata": {},
   "outputs": [],
   "source": [
    "if True:\n",
    "    with torch.no_grad():\n",
    "        meshes = visualizer.create_state_meshes(\n",
    "            show_mosaic_grids=True,\n",
    "            show_target_mesh=False,\n",
    "            resolution=16\n",
    "            )\n",
    "        \n",
    "        # Render the plotly figure\n",
    "        fig = plot_scene({\n",
    "            \"subplot1\": {\n",
    "                \"mesh\": meshes\n",
    "            }\n",
    "        })\n",
    "        fig.show()    \n",
    "    \n",
    "# Hard boundary on diagonal"
   ]
  },
  {
   "cell_type": "code",
   "execution_count": null,
   "metadata": {},
   "outputs": [],
   "source": []
  },
  {
   "cell_type": "code",
   "execution_count": null,
   "metadata": {},
   "outputs": [],
   "source": [
    "p = torch.tensor([\n",
    "    [-.99,-.99,-.99],\n",
    "    [0,0,0],\n",
    "    [.5,.5,.5]\n",
    "], dtype=torch.float32)\n",
    "sdfs = model(p)\n",
    "sdfs\n"
   ]
  },
  {
   "cell_type": "code",
   "execution_count": null,
   "metadata": {},
   "outputs": [],
   "source": [
    "# k = 3\n",
    "# device = 'cpu'\n",
    "\n",
    "rel_positions = torch.linspace(-1, 1, steps=k, device=device)\n",
    "grid_coords = torch.stack(\n",
    "    torch.meshgrid(rel_positions, rel_positions, rel_positions, indexing='ij'), \n",
    "    dim=-1).reshape((-1, 3))\n",
    "# grid_coords"
   ]
  },
  {
   "cell_type": "code",
   "execution_count": null,
   "metadata": {},
   "outputs": [],
   "source": [
    "sdfs = model(grid_coords * .3).reshape((-1, 3))\n",
    "sdfs\n"
   ]
  },
  {
   "cell_type": "code",
   "execution_count": null,
   "metadata": {},
   "outputs": [],
   "source": [
    "grid_coords.shape"
   ]
  },
  {
   "cell_type": "code",
   "execution_count": null,
   "metadata": {},
   "outputs": [],
   "source": [
    "n_grids = 6\n",
    "volume_centers = nn.Parameter(torch.rand((n_grids, 3)) * 2 - 1)  # Initialize randomly within [-1, 1]\n",
    "print(volume_centers.shape)\n",
    "\n",
    "scales = nn.Parameter(torch.rand((n_grids,)))\n",
    "print(scales.shape)"
   ]
  },
  {
   "cell_type": "code",
   "execution_count": null,
   "metadata": {},
   "outputs": [],
   "source": []
  }
 ],
 "metadata": {
  "kernelspec": {
   "display_name": "gen3d",
   "language": "python",
   "name": "python3"
  },
  "language_info": {
   "codemirror_mode": {
    "name": "ipython",
    "version": 3
   },
   "file_extension": ".py",
   "mimetype": "text/x-python",
   "name": "python",
   "nbconvert_exporter": "python",
   "pygments_lexer": "ipython3",
   "version": "3.10.13"
  }
 },
 "nbformat": 4,
 "nbformat_minor": 2
}
