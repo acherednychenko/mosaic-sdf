{
 "cells": [
  {
   "cell_type": "code",
   "execution_count": 1,
   "metadata": {},
   "outputs": [],
   "source": [
    "import torch\n",
    "import torch.nn as nn\n",
    "import numpy as np\n",
    "\n",
    "from einops import rearrange\n",
    "\n",
    "from mosaic_sdf import MosaicSDF\n",
    "from shape_sampler import ShapeSampler\n",
    "from optimizer import MosaicSDFOptimizer\n",
    "from mosaic_sdf_visualizer import MosaicSDFVisualizer\n",
    "\n",
    "from pytorch3d.vis.plotly_vis import AxisArgs, plot_batch_individually, plot_scene"
   ]
  },
  {
   "cell_type": "code",
   "execution_count": 2,
   "metadata": {},
   "outputs": [],
   "source": [
    "\n",
    "def get_sdf(p):\n",
    "    \n",
    "    # print(p.shape)\n",
    "    s = 1 - np.linalg.norm(p, ord=2, axis=-1)\n",
    "    # print(s.shape)\n",
    "    return -s\n",
    "\n",
    "# model.update_sdf_values(get_sdf)"
   ]
  },
  {
   "cell_type": "code",
   "execution_count": 3,
   "metadata": {},
   "outputs": [],
   "source": [
    "# device = torch.device(\"cuda:0\" if torch.cuda.is_available() else \"cpu\")\n",
    "\n",
    "device = 'cpu'\n",
    "k = 7\n",
    "n_grids = 1\n",
    "volume_centers = torch.tensor([\n",
    "    [0,0,0]\n",
    "    ], dtype=torch.float32)\n",
    "volume_scales = torch.tensor([.1], dtype=torch.float32)\n",
    "\n",
    "cube_wireframe_path = 'data/cube_wireframe.obj'\n",
    "cow_mesh_path = 'data/cow_mesh/cow.obj'\n",
    "\n",
    "shape_sampler = ShapeSampler.from_file(cow_mesh_path, sdf_func=get_sdf)\n",
    "\n",
    "model = MosaicSDF(\n",
    "    grid_resolution=k,\n",
    "    n_grids=n_grids,\n",
    "    volume_centers=volume_centers,\n",
    "    volume_scales=volume_scales\n",
    ").to(device)\n",
    "\n",
    "model.update_sdf_values(shape_sampler)"
   ]
  },
  {
   "cell_type": "code",
   "execution_count": 4,
   "metadata": {},
   "outputs": [
    {
     "data": {
      "text/plain": [
       "Parameter containing:\n",
       "tensor([0.1000], requires_grad=True)"
      ]
     },
     "execution_count": 4,
     "metadata": {},
     "output_type": "execute_result"
    }
   ],
   "source": [
    "model.scales"
   ]
  },
  {
   "cell_type": "code",
   "execution_count": 5,
   "metadata": {},
   "outputs": [
    {
     "name": "stdout",
     "output_type": "stream",
     "text": [
      "norm sum: tensor([[0.]])\n",
      "mask: tensor([[True]])\n"
     ]
    },
    {
     "data": {
      "text/plain": [
       "tensor([[1.]], grad_fn=<WhereBackward0>)"
      ]
     },
     "execution_count": 5,
     "metadata": {},
     "output_type": "execute_result"
    }
   ],
   "source": [
    "# sum of weights should not be 1 when volume is scaled and point is cleary out of grid\n",
    "\n",
    "model(torch.tensor([\n",
    "    [.6,0,0]\n",
    "    ], dtype=torch.float32))"
   ]
  },
  {
   "cell_type": "code",
   "execution_count": 4,
   "metadata": {},
   "outputs": [
    {
     "data": {
      "text/plain": [
       "tensor([[[[ 7.3205e-01,  5.6347e-01,  4.5297e-01,  4.1421e-01,  4.5297e-01,\n",
       "            5.6347e-01,  7.3205e-01],\n",
       "          [ 5.6347e-01,  3.7437e-01,  2.4722e-01,  2.0185e-01,  2.4722e-01,\n",
       "            3.7437e-01,  5.6347e-01],\n",
       "          [ 4.5297e-01,  2.4722e-01,  1.0554e-01,  5.4093e-02,  1.0554e-01,\n",
       "            2.4722e-01,  4.5297e-01],\n",
       "          [ 4.1421e-01,  2.0185e-01,  5.4093e-02, -0.0000e+00,  5.4093e-02,\n",
       "            2.0185e-01,  4.1421e-01],\n",
       "          [ 4.5297e-01,  2.4722e-01,  1.0554e-01,  5.4093e-02,  1.0554e-01,\n",
       "            2.4722e-01,  4.5297e-01],\n",
       "          [ 5.6347e-01,  3.7437e-01,  2.4722e-01,  2.0185e-01,  2.4722e-01,\n",
       "            3.7437e-01,  5.6347e-01],\n",
       "          [ 7.3205e-01,  5.6347e-01,  4.5297e-01,  4.1421e-01,  4.5297e-01,\n",
       "            5.6347e-01,  7.3205e-01]],\n",
       "\n",
       "         [[ 5.6347e-01,  3.7437e-01,  2.4722e-01,  2.0185e-01,  2.4722e-01,\n",
       "            3.7437e-01,  5.6347e-01],\n",
       "          [ 3.7437e-01,  1.5470e-01, -5.9605e-08, -5.7191e-02, -5.9605e-08,\n",
       "            1.5470e-01,  3.7437e-01],\n",
       "          [ 2.4722e-01, -5.9605e-08, -1.8350e-01, -2.5464e-01, -1.8350e-01,\n",
       "           -5.9605e-08,  2.4722e-01],\n",
       "          [ 2.0185e-01, -5.7191e-02, -2.5464e-01, -3.3333e-01, -2.5464e-01,\n",
       "           -5.7191e-02,  2.0185e-01],\n",
       "          [ 2.4722e-01, -5.9605e-08, -1.8350e-01, -2.5464e-01, -1.8350e-01,\n",
       "           -5.9605e-08,  2.4722e-01],\n",
       "          [ 3.7437e-01,  1.5470e-01, -5.9605e-08, -5.7191e-02, -5.9605e-08,\n",
       "            1.5470e-01,  3.7437e-01],\n",
       "          [ 5.6347e-01,  3.7437e-01,  2.4722e-01,  2.0185e-01,  2.4722e-01,\n",
       "            3.7437e-01,  5.6347e-01]],\n",
       "\n",
       "         [[ 4.5297e-01,  2.4722e-01,  1.0554e-01,  5.4093e-02,  1.0554e-01,\n",
       "            2.4722e-01,  4.5297e-01],\n",
       "          [ 2.4722e-01, -5.9605e-08, -1.8350e-01, -2.5464e-01, -1.8350e-01,\n",
       "           -5.9605e-08,  2.4722e-01],\n",
       "          [ 1.0554e-01, -1.8350e-01, -4.2265e-01, -5.2860e-01, -4.2265e-01,\n",
       "           -1.8350e-01,  1.0554e-01],\n",
       "          [ 5.4093e-02, -2.5464e-01, -5.2860e-01, -6.6667e-01, -5.2860e-01,\n",
       "           -2.5464e-01,  5.4093e-02],\n",
       "          [ 1.0554e-01, -1.8350e-01, -4.2265e-01, -5.2860e-01, -4.2265e-01,\n",
       "           -1.8350e-01,  1.0554e-01],\n",
       "          [ 2.4722e-01, -5.9605e-08, -1.8350e-01, -2.5464e-01, -1.8350e-01,\n",
       "           -5.9605e-08,  2.4722e-01],\n",
       "          [ 4.5297e-01,  2.4722e-01,  1.0554e-01,  5.4093e-02,  1.0554e-01,\n",
       "            2.4722e-01,  4.5297e-01]],\n",
       "\n",
       "         [[ 4.1421e-01,  2.0185e-01,  5.4093e-02, -0.0000e+00,  5.4093e-02,\n",
       "            2.0185e-01,  4.1421e-01],\n",
       "          [ 2.0185e-01, -5.7191e-02, -2.5464e-01, -3.3333e-01, -2.5464e-01,\n",
       "           -5.7191e-02,  2.0185e-01],\n",
       "          [ 5.4093e-02, -2.5464e-01, -5.2860e-01, -6.6667e-01, -5.2860e-01,\n",
       "           -2.5464e-01,  5.4093e-02],\n",
       "          [-0.0000e+00, -3.3333e-01, -6.6667e-01, -1.0000e+00, -6.6667e-01,\n",
       "           -3.3333e-01, -0.0000e+00],\n",
       "          [ 5.4093e-02, -2.5464e-01, -5.2860e-01, -6.6667e-01, -5.2860e-01,\n",
       "           -2.5464e-01,  5.4093e-02],\n",
       "          [ 2.0185e-01, -5.7191e-02, -2.5464e-01, -3.3333e-01, -2.5464e-01,\n",
       "           -5.7191e-02,  2.0185e-01],\n",
       "          [ 4.1421e-01,  2.0185e-01,  5.4093e-02, -0.0000e+00,  5.4093e-02,\n",
       "            2.0185e-01,  4.1421e-01]],\n",
       "\n",
       "         [[ 4.5297e-01,  2.4722e-01,  1.0554e-01,  5.4093e-02,  1.0554e-01,\n",
       "            2.4722e-01,  4.5297e-01],\n",
       "          [ 2.4722e-01, -5.9605e-08, -1.8350e-01, -2.5464e-01, -1.8350e-01,\n",
       "           -5.9605e-08,  2.4722e-01],\n",
       "          [ 1.0554e-01, -1.8350e-01, -4.2265e-01, -5.2860e-01, -4.2265e-01,\n",
       "           -1.8350e-01,  1.0554e-01],\n",
       "          [ 5.4093e-02, -2.5464e-01, -5.2860e-01, -6.6667e-01, -5.2860e-01,\n",
       "           -2.5464e-01,  5.4093e-02],\n",
       "          [ 1.0554e-01, -1.8350e-01, -4.2265e-01, -5.2860e-01, -4.2265e-01,\n",
       "           -1.8350e-01,  1.0554e-01],\n",
       "          [ 2.4722e-01, -5.9605e-08, -1.8350e-01, -2.5464e-01, -1.8350e-01,\n",
       "           -5.9605e-08,  2.4722e-01],\n",
       "          [ 4.5297e-01,  2.4722e-01,  1.0554e-01,  5.4093e-02,  1.0554e-01,\n",
       "            2.4722e-01,  4.5297e-01]],\n",
       "\n",
       "         [[ 5.6347e-01,  3.7437e-01,  2.4722e-01,  2.0185e-01,  2.4722e-01,\n",
       "            3.7437e-01,  5.6347e-01],\n",
       "          [ 3.7437e-01,  1.5470e-01, -5.9605e-08, -5.7191e-02, -5.9605e-08,\n",
       "            1.5470e-01,  3.7437e-01],\n",
       "          [ 2.4722e-01, -5.9605e-08, -1.8350e-01, -2.5464e-01, -1.8350e-01,\n",
       "           -5.9605e-08,  2.4722e-01],\n",
       "          [ 2.0185e-01, -5.7191e-02, -2.5464e-01, -3.3333e-01, -2.5464e-01,\n",
       "           -5.7191e-02,  2.0185e-01],\n",
       "          [ 2.4722e-01, -5.9605e-08, -1.8350e-01, -2.5464e-01, -1.8350e-01,\n",
       "           -5.9605e-08,  2.4722e-01],\n",
       "          [ 3.7437e-01,  1.5470e-01, -5.9605e-08, -5.7191e-02, -5.9605e-08,\n",
       "            1.5470e-01,  3.7437e-01],\n",
       "          [ 5.6347e-01,  3.7437e-01,  2.4722e-01,  2.0185e-01,  2.4722e-01,\n",
       "            3.7437e-01,  5.6347e-01]],\n",
       "\n",
       "         [[ 7.3205e-01,  5.6347e-01,  4.5297e-01,  4.1421e-01,  4.5297e-01,\n",
       "            5.6347e-01,  7.3205e-01],\n",
       "          [ 5.6347e-01,  3.7437e-01,  2.4722e-01,  2.0185e-01,  2.4722e-01,\n",
       "            3.7437e-01,  5.6347e-01],\n",
       "          [ 4.5297e-01,  2.4722e-01,  1.0554e-01,  5.4093e-02,  1.0554e-01,\n",
       "            2.4722e-01,  4.5297e-01],\n",
       "          [ 4.1421e-01,  2.0185e-01,  5.4093e-02, -0.0000e+00,  5.4093e-02,\n",
       "            2.0185e-01,  4.1421e-01],\n",
       "          [ 4.5297e-01,  2.4722e-01,  1.0554e-01,  5.4093e-02,  1.0554e-01,\n",
       "            2.4722e-01,  4.5297e-01],\n",
       "          [ 5.6347e-01,  3.7437e-01,  2.4722e-01,  2.0185e-01,  2.4722e-01,\n",
       "            3.7437e-01,  5.6347e-01],\n",
       "          [ 7.3205e-01,  5.6347e-01,  4.5297e-01,  4.1421e-01,  4.5297e-01,\n",
       "            5.6347e-01,  7.3205e-01]]]])"
      ]
     },
     "execution_count": 4,
     "metadata": {},
     "output_type": "execute_result"
    }
   ],
   "source": [
    "model.mosaic_sdf_values"
   ]
  },
  {
   "cell_type": "code",
   "execution_count": 5,
   "metadata": {},
   "outputs": [
    {
     "name": "stderr",
     "output_type": "stream",
     "text": [
      "/home/che/miniforge3/envs/gen3d/lib/python3.10/site-packages/pytorch3d/io/obj_io.py:544: UserWarning: No mtl file provided\n",
      "  warnings.warn(\"No mtl file provided\")\n"
     ]
    }
   ],
   "source": [
    "\n",
    "visualizer = MosaicSDFVisualizer(model, shape_sampler, \n",
    "    device, template_mesh_path=cube_wireframe_path)#, requires_grad=False)\n",
    "\n",
    "# visualizer.plot_meshes()"
   ]
  },
  {
   "cell_type": "code",
   "execution_count": null,
   "metadata": {},
   "outputs": [],
   "source": [
    "input_points = torch.tensor([\n",
    "    [-.5,-.5,0]\n",
    "    ], dtype=torch.float32)\n",
    "\n",
    "model(input_points)"
   ]
  },
  {
   "cell_type": "code",
   "execution_count": null,
   "metadata": {},
   "outputs": [],
   "source": []
  },
  {
   "cell_type": "code",
   "execution_count": null,
   "metadata": {},
   "outputs": [],
   "source": []
  },
  {
   "cell_type": "code",
   "execution_count": null,
   "metadata": {},
   "outputs": [],
   "source": [
    "resolution=5\n",
    "grid_points = torch.stack(torch.meshgrid(\n",
    "    torch.linspace(-1, 1, resolution),\n",
    "    torch.linspace(-1, 1, resolution),\n",
    "    torch.linspace(-1, 1, resolution), indexing='ij'\n",
    "), dim=-1).reshape(-1, 3)#.to(device)\n",
    "\n",
    "# print(grid_points.shape)\n",
    "model(grid_points).reshape(-1, resolution, resolution)"
   ]
  },
  {
   "cell_type": "code",
   "execution_count": null,
   "metadata": {},
   "outputs": [],
   "source": [
    "if True:\n",
    "    with torch.no_grad():\n",
    "        meshes = visualizer.create_state_meshes(\n",
    "            show_mosaic_grids=True,\n",
    "            show_target_mesh=False,\n",
    "            resolution=16\n",
    "            )\n",
    "        \n",
    "        # Render the plotly figure\n",
    "        fig = plot_scene({\n",
    "            \"subplot1\": {\n",
    "                \"mesh\": meshes\n",
    "            }\n",
    "        })\n",
    "        fig.show()    \n",
    "    \n",
    "# Hard boundary on diagonal"
   ]
  },
  {
   "cell_type": "code",
   "execution_count": null,
   "metadata": {},
   "outputs": [],
   "source": []
  },
  {
   "cell_type": "code",
   "execution_count": null,
   "metadata": {},
   "outputs": [],
   "source": [
    "p = torch.tensor([\n",
    "    [-.99,-.99,-.99],\n",
    "    [0,0,0],\n",
    "    [.5,.5,.5]\n",
    "], dtype=torch.float32)\n",
    "sdfs = model(p)\n",
    "sdfs\n"
   ]
  },
  {
   "cell_type": "code",
   "execution_count": null,
   "metadata": {},
   "outputs": [],
   "source": [
    "# k = 3\n",
    "# device = 'cpu'\n",
    "\n",
    "rel_positions = torch.linspace(-1, 1, steps=k, device=device)\n",
    "grid_coords = torch.stack(\n",
    "    torch.meshgrid(rel_positions, rel_positions, rel_positions, indexing='ij'), \n",
    "    dim=-1).reshape((-1, 3))\n",
    "# grid_coords"
   ]
  },
  {
   "cell_type": "code",
   "execution_count": null,
   "metadata": {},
   "outputs": [],
   "source": [
    "sdfs = model(grid_coords * .3).reshape((-1, 3))\n",
    "sdfs\n"
   ]
  },
  {
   "cell_type": "code",
   "execution_count": null,
   "metadata": {},
   "outputs": [],
   "source": [
    "grid_coords.shape"
   ]
  },
  {
   "cell_type": "code",
   "execution_count": null,
   "metadata": {},
   "outputs": [],
   "source": [
    "n_grids = 6\n",
    "volume_centers = nn.Parameter(torch.rand((n_grids, 3)) * 2 - 1)  # Initialize randomly within [-1, 1]\n",
    "print(volume_centers.shape)\n",
    "\n",
    "scales = nn.Parameter(torch.rand((n_grids,)))\n",
    "print(scales.shape)"
   ]
  },
  {
   "cell_type": "code",
   "execution_count": null,
   "metadata": {},
   "outputs": [],
   "source": []
  }
 ],
 "metadata": {
  "kernelspec": {
   "display_name": "gen3d",
   "language": "python",
   "name": "python3"
  },
  "language_info": {
   "codemirror_mode": {
    "name": "ipython",
    "version": 3
   },
   "file_extension": ".py",
   "mimetype": "text/x-python",
   "name": "python",
   "nbconvert_exporter": "python",
   "pygments_lexer": "ipython3",
   "version": "3.10.13"
  }
 },
 "nbformat": 4,
 "nbformat_minor": 2
}
