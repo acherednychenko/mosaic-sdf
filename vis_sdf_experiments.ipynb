{
 "cells": [
  {
   "cell_type": "code",
   "execution_count": 1,
   "metadata": {},
   "outputs": [],
   "source": [
    "import torch\n",
    "import numpy as np\n",
    "from skimage.measure import marching_cubes\n",
    "from pytorch3d.structures import Meshes\n",
    "from pytorch3d.io import save_obj\n",
    "from pytorch3d.renderer import (\n",
    "    look_at_view_transform,\n",
    "    FoVPerspectiveCameras,\n",
    "    PointLights,\n",
    "    RasterizationSettings,\n",
    "    MeshRenderer,\n",
    "    MeshRasterizer,\n",
    "    SoftPhongShader\n",
    ")\n",
    "\n"
   ]
  },
  {
   "cell_type": "code",
   "execution_count": 2,
   "metadata": {},
   "outputs": [],
   "source": [
    "from pysdf import SDF\n",
    "\n",
    "# Load some mesh (don't necessarily need trimesh)\n",
    "import trimesh\n",
    "o = trimesh.load('data/cow_mesh/cow.obj')\n",
    "f = SDF(o.vertices, o.faces); # (num_vertices, 3) and (num_faces, 3)\n",
    "\n",
    "# Compute some SDF values (negative outside);\n",
    "# takes a (num_points, 3) array, converts automatically\n",
    "origin_sdf = f([0, 0, 0])\n",
    "sdf_multi_point = f([[0, 0, 0],[1,1,1],[0.1,0.2,0.2]])\n",
    "\n",
    "# Contains check\n",
    "origin_contained = f.contains([0, 0, 0])\n",
    "\n",
    "# Misc: nearest neighbor\n",
    "origin_nn = f.nn([0, 0, 0])\n",
    "\n",
    "# Misc: uniform surface point sampling\n",
    "random_surface_points = f.sample_surface(10000)\n",
    "\n",
    "# Misc: surface area\n",
    "the_surface_area = f.surface_area"
   ]
  },
  {
   "cell_type": "code",
   "execution_count": 3,
   "metadata": {},
   "outputs": [
    {
     "data": {
      "text/plain": [
       "(10000, 3)"
      ]
     },
     "execution_count": 3,
     "metadata": {},
     "output_type": "execute_result"
    }
   ],
   "source": [
    "random_surface_points.shape"
   ]
  },
  {
   "cell_type": "code",
   "execution_count": 4,
   "metadata": {},
   "outputs": [
    {
     "name": "stderr",
     "output_type": "stream",
     "text": [
      "/home/che/miniforge3/envs/gen3d/lib/python3.10/site-packages/torch/functional.py:504: UserWarning: torch.meshgrid: in an upcoming release, it will be required to pass the indexing argument. (Triggered internally at /home/conda/feedstock_root/build_artifacts/libtorch_1706712676143/work/aten/src/ATen/native/TensorShape.cpp:3526.)\n",
      "  return _VF.meshgrid(tensors, **kwargs)  # type: ignore[attr-defined]\n"
     ]
    }
   ],
   "source": [
    "\n",
    "# mosaic_sdf = optimizer.model\n",
    "resolution = 8\n",
    "device = 'cuda'\n",
    "\n",
    "\n",
    "# # Assuming 'mosaic_sdf' is your MosaicSDF instance and 'resolution' is the desired grid resolution\n",
    "grid_points = torch.stack(torch.meshgrid(\n",
    "    torch.linspace(-1, 1, resolution),\n",
    "    torch.linspace(-1, 1, resolution),\n",
    "    torch.linspace(-1, 1, resolution)\n",
    "), dim=-1).reshape(-1, 3)#.to(device)\n",
    "\n",
    "sdf_values = f(grid_points)\n",
    "sdf_volume = sdf_values.reshape(resolution, resolution, resolution)\n",
    "\n",
    "# # Get the SDF values at these points\n",
    "# sdf_values = mosaic_sdf(grid_points).detach().cpu().numpy()\n",
    "# sdf_volume = sdf_values.reshape(resolution, resolution, resolution)\n",
    "# sdf_volume.shape"
   ]
  },
  {
   "cell_type": "markdown",
   "metadata": {},
   "source": []
  },
  {
   "cell_type": "code",
   "execution_count": 5,
   "metadata": {},
   "outputs": [],
   "source": [
    "\n",
    "# Run marching cubes to get vertices, faces, and normals\n",
    "verts, faces, normals, _ = marching_cubes(sdf_volume, level=0)\n",
    "faces = faces + 1  # skimage has 0-indexed faces, while PyTorch3D expects 1-indexed\n",
    "\n",
    "# Convert to PyTorch tensors\n",
    "verts = torch.tensor(verts.copy(), dtype=torch.float32)\n",
    "faces = torch.tensor(faces.copy(), dtype=torch.int64)\n",
    "\n",
    "# Create a PyTorch3D mesh\n",
    "mesh = Meshes(verts=[verts], faces=[faces])\n",
    "\n",
    "# Initialize a renderer\n",
    "R, T = look_at_view_transform(2.7, 0, 90)\n",
    "cameras = FoVPerspectiveCameras(device=device, R=R, T=T)\n",
    "raster_settings = RasterizationSettings(image_size=512)\n",
    "lights = PointLights(device=device, location=[[0.0, 0.0, -3.0]])\n",
    "\n",
    "renderer = MeshRenderer(\n",
    "    rasterizer=MeshRasterizer(cameras=cameras, raster_settings=raster_settings),\n",
    "    shader=SoftPhongShader(device=device, cameras=cameras, lights=lights)\n",
    ")\n",
    "\n",
    "# Render the mesh\n",
    "images = renderer(mesh.to(device))\n"
   ]
  },
  {
   "cell_type": "code",
   "execution_count": 20,
   "metadata": {},
   "outputs": [
    {
     "data": {
      "text/plain": [
       "array([4.3094845, 2.061425 , 2.5206199], dtype=float32)"
      ]
     },
     "execution_count": 20,
     "metadata": {},
     "output_type": "execute_result"
    }
   ],
   "source": [
    "verts.min(axis=0)"
   ]
  }
 ],
 "metadata": {
  "kernelspec": {
   "display_name": "gen3d",
   "language": "python",
   "name": "python3"
  },
  "language_info": {
   "codemirror_mode": {
    "name": "ipython",
    "version": 3
   },
   "file_extension": ".py",
   "mimetype": "text/x-python",
   "name": "python",
   "nbconvert_exporter": "python",
   "pygments_lexer": "ipython3",
   "version": "3.10.13"
  }
 },
 "nbformat": 4,
 "nbformat_minor": 2
}
