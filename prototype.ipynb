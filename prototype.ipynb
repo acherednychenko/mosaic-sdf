{
 "cells": [
  {
   "cell_type": "code",
   "execution_count": 1,
   "metadata": {},
   "outputs": [],
   "source": [
    "import torch\n",
    "import torch.nn as nn\n",
    "import numpy as np"
   ]
  },
  {
   "cell_type": "code",
   "execution_count": 2,
   "metadata": {},
   "outputs": [],
   "source": [
    "\n",
    "\n",
    "class ShapeSampler(nn.Module):\n",
    "    def __init__(self, shape_type):       \n",
    "        super(ShapeSampler, self).__init__()\n",
    "\n",
    "        self.shape_type = shape_type\n",
    "        \n",
    "    def forward(self, points):\n",
    "        \"\"\"\n",
    "        This is a stub function that simulates sampling the SDF for different shapes.\n",
    "        :param shape_type: A string indicating the type of shape ('sphere', 'cube', 'pyramid').\n",
    "        :param points: A tensor of points in space (N, 3) we want to sample the SDF for.\n",
    "        :return: A tensor representing the SDF values at the provided points.\n",
    "        \"\"\"\n",
    "        if self.shape_type == \"sphere\":\n",
    "            return self.sample_sphere(points)\n",
    "        elif self.shape_type == \"cube\":\n",
    "            return self.sample_cube(points)\n",
    "        # elif shape_type == \"pyramid\":\n",
    "        #     return self.sample_pyramid(points)\n",
    "        else:\n",
    "            raise ValueError(\"Unknown shape type.\")\n",
    "        \n",
    "    def sample_sphere(self, points, radius=1.0):\n",
    "        \"\"\"\n",
    "        Simulate SDF sampling for a sphere centered at the origin.\n",
    "        :param points: Points at which to sample the SDF (N, 3).\n",
    "        :param radius: Radius of the sphere.\n",
    "        :return: SDF values at the provided points.\n",
    "        \"\"\"\n",
    "        return torch.norm(points, dim=1) - radius\n",
    "\n",
    "    def sample_cube(self, points, side_length=2.0):\n",
    "        \"\"\"\n",
    "        Simulate SDF sampling for a cube centered at the origin.\n",
    "        :param points: Points at which to sample the SDF (N, 3).\n",
    "        :param side_length: Side length of the cube.\n",
    "        :return: SDF values at the provided points.\n",
    "        \"\"\"\n",
    "        half_side = side_length / 2\n",
    "        max_dist = torch.max(torch.abs(points) - half_side, dim=1)[0]\n",
    "        return max_dist\n",
    "    \n",
    "    # def sample_pyramid(self, points, height=2.0, base=2.0):\n",
    "    #     \"\"\"\n",
    "    #     Simulate SDF sampling for a pyramid centered at the origin.\n",
    "    #     :param points: Points at which to sample the SDF (N, 3).\n",
    "    #     :param height: Height of the pyramid.\n",
    "    #     :param base: Base length of the pyramid.\n",
    "    #     :return: SDF values at the provided points.\n",
    "    #     \"\"\"\n",
    "    #     # This is a simplified stub for the pyramid SDF.\n",
    "    #     # A true SDF for a pyramid would involve more complex calculations.\n",
    "    #     x_dist = torch.abs(points[:, 0]) - base/2\n",
    "    #     y_dist = torch.abs(points[:, 1]) - base/2\n",
    "    #     z_dist = points[:, 2] - height/2\n",
    "    #     return torch.max(torch.max(x_dist, y_dist), z_dist)\n"
   ]
  },
  {
   "cell_type": "code",
   "execution_count": 3,
   "metadata": {},
   "outputs": [
    {
     "data": {
      "text/plain": [
       "(tensor([-0.1340,  0.0000,  0.7321,  0.5000]),\n",
       " tensor([-0.5000,  0.0000,  0.0000,  0.5000]))"
      ]
     },
     "execution_count": 3,
     "metadata": {},
     "output_type": "execute_result"
    }
   ],
   "source": [
    "\n",
    "# Example usage\n",
    "\n",
    "points = torch.tensor([\n",
    "    [0.5, 0.5, 0.5], \n",
    "    [1, 0, 0], \n",
    "    [-1.0, -1.0, -1.0], \n",
    "    [0.0, 0.0, 1.5]\n",
    "])\n",
    "\n",
    "# Sample SDF for different shapes at the specified points\n",
    "sphere_sdf = ShapeSampler(shape_type=\"sphere\").forward(points)\n",
    "cube_sdf = ShapeSampler(\"cube\")(points)\n",
    "# pyramid_sdf = shape_sampler(\"pyramid\", points)\n",
    "\n",
    "sphere_sdf, cube_sdf #, pyramid_sdf\n"
   ]
  },
  {
   "cell_type": "code",
   "execution_count": 4,
   "metadata": {},
   "outputs": [],
   "source": [
    "\n",
    "def initialize_mosaic_sdf(shape_sampler, n_grids, grid_resolution, grid_scale):\n",
    "    \"\"\"\n",
    "    Initialize the Mosaic-SDF representation for a given shape.\n",
    "    :param shape_sampler: 3D shape sampler.\n",
    "    :param n_grids: Number of local grids.\n",
    "    :param grid_resolution: Resolution of each grid (k x k x k).\n",
    "    :param grid_scale: Scale (size) of each grid.\n",
    "    :return: A representation of the shape as a set of local grids.\n",
    "    \"\"\"\n",
    "    # Step 1: Normalize the shape to fit within a designated volume.\n",
    "    \n",
    "    # Step 2: Sample boundary points and initialize volume centers using farthest point sampling.\n",
    "    volume_centers = sample_volume_centers(shape_sampler, n_grids)\n",
    "    \n",
    "    # Step 3: Initialize all grids with a uniform scale and empty SDF values.\n",
    "    # TODO select more meaningful initial scale ?\n",
    "    scales = torch.full((n_grids,), fill_value=grid_scale)\n",
    "    \n",
    "    sdf_values = torch.zeros((n_grids, grid_resolution, grid_resolution, grid_resolution))\n",
    "    \n",
    "    # Step 4: For each grid, compute the local SDF values (simplified here as zeros).\n",
    "    for i in range(n_grids):\n",
    "        # In practice, compute and store the SDF values for points within the grid.\n",
    "        sdf_values[i] = compute_local_sdf(shape_sampler, volume_centers[i], grid_scale)\n",
    "    \n",
    "    # Each grid's representation could be expanded to include its location, scale, and SDF values.\n",
    "    grids_representation = (volume_centers, scales, sdf_values)\n",
    "    \n",
    "    # TODO concat grid_representation into single row?\n",
    "\n",
    "    return grids_representation\n",
    "\n",
    "def sample_volume_centers(shape_sampler, n_grids):\n",
    "    # Placeholder for actual implementation of farthest point sampling.\n",
    "    return torch.rand((n_grids, 3))  # Randomly initialized for illustration.\n",
    "\n",
    "\n",
    "def compute_local_sdf(shape_sampler, center, scale, grid_resolution=7):\n",
    "    x = torch.linspace(center[0] - scale / 2, center[0] + scale / 2, grid_resolution)\n",
    "    y = torch.linspace(center[1] - scale / 2, center[1] + scale / 2, grid_resolution)\n",
    "    z = torch.linspace(center[2] - scale / 2, center[2] + scale / 2, grid_resolution)\n",
    "    x, y, z = torch.meshgrid(x, y, z, indexing='ij')\n",
    "    grid_points = torch.stack([x, y, z], dim=-1).reshape(-1, 3)\n",
    "    sdf_values = shape_sampler(grid_points).reshape(grid_resolution, grid_resolution, grid_resolution)\n",
    "    return sdf_values\n"
   ]
  },
  {
   "cell_type": "code",
   "execution_count": 5,
   "metadata": {},
   "outputs": [
    {
     "name": "stdout",
     "output_type": "stream",
     "text": [
      "torch.Size([3, 3, 3])\n"
     ]
    }
   ],
   "source": [
    "# Using the updated ShapeSampler class\n",
    "shape_sampler = ShapeSampler(\"sphere\")\n",
    "center = torch.tensor([0.0, 0.0, 0.0])\n",
    "scale = 2.0\n",
    "\n",
    "# Compute local SDF values\n",
    "local_sdf_values = compute_local_sdf(shape_sampler, center, scale, grid_resolution=3)\n",
    "print(local_sdf_values.shape) "
   ]
  },
  {
   "cell_type": "code",
   "execution_count": 6,
   "metadata": {},
   "outputs": [
    {
     "data": {
      "text/plain": [
       "tensor([[[ 0.7321,  0.4142,  0.7321],\n",
       "         [ 0.4142,  0.0000,  0.4142],\n",
       "         [ 0.7321,  0.4142,  0.7321]],\n",
       "\n",
       "        [[ 0.4142,  0.0000,  0.4142],\n",
       "         [ 0.0000, -1.0000,  0.0000],\n",
       "         [ 0.4142,  0.0000,  0.4142]],\n",
       "\n",
       "        [[ 0.7321,  0.4142,  0.7321],\n",
       "         [ 0.4142,  0.0000,  0.4142],\n",
       "         [ 0.7321,  0.4142,  0.7321]]])"
      ]
     },
     "execution_count": 6,
     "metadata": {},
     "output_type": "execute_result"
    }
   ],
   "source": [
    "local_sdf_values"
   ]
  },
  {
   "cell_type": "code",
   "execution_count": 7,
   "metadata": {},
   "outputs": [],
   "source": [
    "\n",
    "def trilinear_interpolation(sdf_values, relative_pos):\n",
    "    # Placeholder function for trilinear interpolation\n",
    "    # sdf_values: tensor of SDF values in a grid\n",
    "    # relative_pos: relative position within the grid, scaled to [0, 1]\n",
    "    # This function should interpolate sdf_values based on relative_pos\n",
    "    return torch.tensor(0.0)  # Simplified return value for illustration\n",
    "\n",
    "def scalar_weight_function(distance, scale):\n",
    "    # Placeholder function for scalar weight based on distance and scale\n",
    "    return 1.0  # Simplified return value for illustration\n"
   ]
  },
  {
   "cell_type": "code",
   "execution_count": 8,
   "metadata": {},
   "outputs": [],
   "source": [
    "class MosaicSDF(nn.Module):\n",
    "    def __init__(self, shape_sampler: ShapeSampler, grid_resolution=7, n_grids=1024):\n",
    "        \"\"\"\n",
    "        Initialize the MosaicSDF representation.\n",
    "        \n",
    "        :param shape_sampler: Shape Sampler facade.\n",
    "        :param n_grids: Number of local grids.\n",
    "        :param grid_resolution: Resolution of each grid (assumed cubic for simplicity).\n",
    "        :param grid_scale: Initial scale (size) for each grid.\n",
    "        \"\"\"\n",
    "        super(MosaicSDF, self).__init__()\n",
    "        \n",
    "        self.shape_sampler = shape_sampler\n",
    "\n",
    "        # Assuming volume_centers, scales, and sdf_values are learnable parameters\n",
    "        self.volume_centers = nn.Parameter(torch.rand((n_grids, 3)) * 2 - 1)  # Initialize randomly within [-1, 1]\n",
    "        \n",
    "        min_rand_scale = .01\n",
    "        max_rand_scale = 1.\n",
    "        self.scales = nn.Parameter(torch.rand((n_grids,)) * (max_rand_scale - min_rand_scale) + min_rand_scale)\n",
    "\n",
    "        self.sdf_values = nn.Parameter(torch.randn(n_grids, grid_resolution, grid_resolution, grid_resolution))\n",
    "        \n",
    "    def forward(self, points):\n",
    "        \"\"\"\n",
    "        Compute the SDF values at given points using the Mosaic-SDF representation.\n",
    "        \n",
    "        :param points: Tensor of points where SDF values are to be computed (N, 3).\n",
    "        :return: SDF values at the provided points.\n",
    "        \"\"\"\n",
    "        \n",
    "        points_expanded_to_grids = points[:, None, :]\n",
    "        grids_expanded_to_points = self.volume_centers[None, ...]\n",
    "        scales_expanded_to_points = self.scales[None, ...]\n",
    "        \n",
    "        points_grid_centers_diff = points_expanded_to_grids - grids_expanded_to_points\n",
    "        scaled_points_grid_centers_diff = points_grid_centers_diff / scales_expanded_to_points\n",
    "        \n",
    "        sdf_values_expanded_to_points = self.sdf_values[None, ...]\n",
    "        points_interpolated_sdf = trilinear_interpolation(sdf_values_expanded_to_points, scaled_points_grid_centers_diff)\n",
    "        \n",
    "        distances_from_point_to_grid_centers = torch.linalg.vector_norm(points_grid_centers_diff, dim=-1)\n",
    "        \n",
    "        points_sdf_weight = scalar_weight_function(distances_from_point_to_grid_centers, scales_expanded_to_points)\n",
    "\n",
    "        points_sdf = torch.sum(points_interpolated_sdf * points_sdf_weight, dim=-1).reshape(points.shape[0], 1)\n",
    "        return points_sdf\n"
   ]
  },
  {
   "cell_type": "code",
   "execution_count": 23,
   "metadata": {},
   "outputs": [],
   "source": [
    "\n",
    "grid_centers = torch.tensor([\n",
    "    [0, 0], \n",
    "    [0.5, 0.5], \n",
    "    [1, 1], \n",
    "])\n",
    "\n",
    "\n",
    "points = torch.tensor([\n",
    "    [0.5, 0.5], \n",
    "    [1, 0], \n",
    "])\n",
    "\n"
   ]
  },
  {
   "cell_type": "code",
   "execution_count": 24,
   "metadata": {},
   "outputs": [],
   "source": [
    "points_expanded_to_grids = points[:, None, :]\n",
    "grids_expanded_to_points = grid_centers[None, ...]\n",
    "\n",
    "distances_from_point_to_grid_centers = torch.linalg.vector_norm(points_expanded_to_grids - grids_expanded_to_points,\n",
    "    dim=-1)"
   ]
  },
  {
   "cell_type": "code",
   "execution_count": 27,
   "metadata": {},
   "outputs": [
    {
     "data": {
      "text/plain": [
       "tensor([[0.7071, 0.0000, 0.7071],\n",
       "        [1.0000, 0.7071, 1.0000]])"
      ]
     },
     "execution_count": 27,
     "metadata": {},
     "output_type": "execute_result"
    }
   ],
   "source": [
    "distances_from_point_to_grid_centers"
   ]
  },
  {
   "cell_type": "code",
   "execution_count": 11,
   "metadata": {},
   "outputs": [
    {
     "name": "stdout",
     "output_type": "stream",
     "text": [
      "torch.Size([2, 2])\n",
      "torch.Size([3, 2])\n"
     ]
    }
   ],
   "source": [
    "print(points.shape)\n",
    "print(grid_centers.shape)"
   ]
  },
  {
   "cell_type": "code",
   "execution_count": 20,
   "metadata": {},
   "outputs": [
    {
     "name": "stdout",
     "output_type": "stream",
     "text": [
      "torch.Size([2, 1, 2])\n"
     ]
    },
    {
     "data": {
      "text/plain": [
       "tensor([[[0.5000, 0.5000]],\n",
       "\n",
       "        [[1.0000, 0.0000]]])"
      ]
     },
     "execution_count": 20,
     "metadata": {},
     "output_type": "execute_result"
    }
   ],
   "source": [
    "point_to_grid_diff_expected_dim = (2, 3, 2)\n",
    "\n",
    "pe = points[:, None, :]\n",
    "print(pe.shape)\n",
    "pe"
   ]
  },
  {
   "cell_type": "code",
   "execution_count": 19,
   "metadata": {},
   "outputs": [
    {
     "name": "stdout",
     "output_type": "stream",
     "text": [
      "torch.Size([1, 3, 2])\n"
     ]
    },
    {
     "data": {
      "text/plain": [
       "tensor([[[0.0000, 0.0000],\n",
       "         [0.5000, 0.5000],\n",
       "         [1.0000, 1.0000]]])"
      ]
     },
     "execution_count": 19,
     "metadata": {},
     "output_type": "execute_result"
    }
   ],
   "source": [
    "ge = grid_centers[None, ...]\n",
    "print(ge.shape)\n",
    "ge"
   ]
  },
  {
   "cell_type": "code",
   "execution_count": 21,
   "metadata": {},
   "outputs": [
    {
     "name": "stdout",
     "output_type": "stream",
     "text": [
      "torch.Size([2, 3, 2])\n"
     ]
    },
    {
     "data": {
      "text/plain": [
       "tensor([[[0.5000, 0.5000],\n",
       "         [0.0000, 0.0000],\n",
       "         [0.5000, 0.5000]],\n",
       "\n",
       "        [[1.0000, 0.0000],\n",
       "         [0.5000, 0.5000],\n",
       "         [0.0000, 1.0000]]])"
      ]
     },
     "execution_count": 21,
     "metadata": {},
     "output_type": "execute_result"
    }
   ],
   "source": [
    "diff = torch.abs(pe - ge)\n",
    "print(diff.shape)\n",
    "diff"
   ]
  },
  {
   "cell_type": "code",
   "execution_count": 79,
   "metadata": {},
   "outputs": [
    {
     "data": {
      "text/plain": [
       "tensor([0.2186, 0.5066, 0.3426, 0.1807, 0.7764, 0.4791, 0.6031, 0.2558, 0.8535,\n",
       "        0.6308])"
      ]
     },
     "execution_count": 79,
     "metadata": {},
     "output_type": "execute_result"
    }
   ],
   "source": [
    "n_grids = 10\n",
    "torch.rand((n_grids,)) * (max_rand_scale - min_rand_scale) + min_rand_scale"
   ]
  }
 ],
 "metadata": {
  "kernelspec": {
   "display_name": "Python 3 (ipykernel)",
   "language": "python",
   "name": "python3"
  },
  "language_info": {
   "codemirror_mode": {
    "name": "ipython",
    "version": 3
   },
   "file_extension": ".py",
   "mimetype": "text/x-python",
   "name": "python",
   "nbconvert_exporter": "python",
   "pygments_lexer": "ipython3",
   "version": "3.10.13"
  }
 },
 "nbformat": 4,
 "nbformat_minor": 2
}
