{
 "cells": [
  {
   "cell_type": "code",
   "execution_count": 1,
   "metadata": {},
   "outputs": [],
   "source": [
    "import torch\n",
    "import torch.nn as nn\n",
    "import numpy as np"
   ]
  },
  {
   "cell_type": "code",
   "execution_count": 2,
   "metadata": {},
   "outputs": [],
   "source": [
    "\n",
    "\n",
    "class ShapeSampler(nn.Module):\n",
    "    def __init__(self, shape_type):       \n",
    "        super(ShapeSampler, self).__init__()\n",
    "\n",
    "        self.shape_type = shape_type\n",
    "        \n",
    "    def forward(self, points):\n",
    "        \"\"\"\n",
    "        This is a stub function that simulates sampling the SDF for different shapes.\n",
    "        :param shape_type: A string indicating the type of shape ('sphere', 'cube', 'pyramid').\n",
    "        :param points: A tensor of points in space (N, 3) we want to sample the SDF for.\n",
    "        :return: A tensor representing the SDF values at the provided points.\n",
    "        \"\"\"\n",
    "        if self.shape_type == \"sphere\":\n",
    "            return self.sample_sphere(points)\n",
    "        elif self.shape_type == \"cube\":\n",
    "            return self.sample_cube(points)\n",
    "        # elif shape_type == \"pyramid\":\n",
    "        #     return self.sample_pyramid(points)\n",
    "        else:\n",
    "            raise ValueError(\"Unknown shape type.\")\n",
    "        \n",
    "    def sample_sphere(self, points, radius=1.0):\n",
    "        \"\"\"\n",
    "        Simulate SDF sampling for a sphere centered at the origin.\n",
    "        :param points: Points at which to sample the SDF (N, 3).\n",
    "        :param radius: Radius of the sphere.\n",
    "        :return: SDF values at the provided points.\n",
    "        \"\"\"\n",
    "        return torch.norm(points, dim=1) - radius\n",
    "\n",
    "    def sample_cube(self, points, side_length=2.0):\n",
    "        \"\"\"\n",
    "        Simulate SDF sampling for a cube centered at the origin.\n",
    "        :param points: Points at which to sample the SDF (N, 3).\n",
    "        :param side_length: Side length of the cube.\n",
    "        :return: SDF values at the provided points.\n",
    "        \"\"\"\n",
    "        half_side = side_length / 2\n",
    "        max_dist = torch.max(torch.abs(points) - half_side, dim=1)[0]\n",
    "        return max_dist\n",
    "    \n",
    "    # def sample_pyramid(self, points, height=2.0, base=2.0):\n",
    "    #     \"\"\"\n",
    "    #     Simulate SDF sampling for a pyramid centered at the origin.\n",
    "    #     :param points: Points at which to sample the SDF (N, 3).\n",
    "    #     :param height: Height of the pyramid.\n",
    "    #     :param base: Base length of the pyramid.\n",
    "    #     :return: SDF values at the provided points.\n",
    "    #     \"\"\"\n",
    "    #     # This is a simplified stub for the pyramid SDF.\n",
    "    #     # A true SDF for a pyramid would involve more complex calculations.\n",
    "    #     x_dist = torch.abs(points[:, 0]) - base/2\n",
    "    #     y_dist = torch.abs(points[:, 1]) - base/2\n",
    "    #     z_dist = points[:, 2] - height/2\n",
    "    #     return torch.max(torch.max(x_dist, y_dist), z_dist)\n"
   ]
  },
  {
   "cell_type": "code",
   "execution_count": 3,
   "metadata": {},
   "outputs": [
    {
     "data": {
      "text/plain": [
       "(tensor([-0.1340,  0.0000,  0.7321,  0.5000]),\n",
       " tensor([-0.5000,  0.0000,  0.0000,  0.5000]))"
      ]
     },
     "execution_count": 3,
     "metadata": {},
     "output_type": "execute_result"
    }
   ],
   "source": [
    "\n",
    "# Example usage\n",
    "\n",
    "points = torch.tensor([\n",
    "    [0.5, 0.5, 0.5], \n",
    "    [1, 0, 0], \n",
    "    [-1.0, -1.0, -1.0], \n",
    "    [0.0, 0.0, 1.5]\n",
    "])\n",
    "\n",
    "# Sample SDF for different shapes at the specified points\n",
    "sphere_sdf = ShapeSampler(shape_type=\"sphere\").forward(points)\n",
    "cube_sdf = ShapeSampler(\"cube\")(points)\n",
    "# pyramid_sdf = shape_sampler(\"pyramid\", points)\n",
    "\n",
    "sphere_sdf, cube_sdf #, pyramid_sdf\n"
   ]
  },
  {
   "cell_type": "code",
   "execution_count": 4,
   "metadata": {},
   "outputs": [],
   "source": [
    "\n",
    "def initialize_mosaic_sdf(shape_sampler, n_grids, grid_resolution, grid_scale):\n",
    "    \"\"\"\n",
    "    Initialize the Mosaic-SDF representation for a given shape.\n",
    "    :param shape_sampler: 3D shape sampler.\n",
    "    :param n_grids: Number of local grids.\n",
    "    :param grid_resolution: Resolution of each grid (k x k x k).\n",
    "    :param grid_scale: Scale (size) of each grid.\n",
    "    :return: A representation of the shape as a set of local grids.\n",
    "    \"\"\"\n",
    "    # Step 1: Normalize the shape to fit within a designated volume.\n",
    "    \n",
    "    # Step 2: Sample boundary points and initialize volume centers using farthest point sampling.\n",
    "    volume_centers = sample_volume_centers(shape_sampler, n_grids)\n",
    "    \n",
    "    # Step 3: Initialize all grids with a uniform scale and empty SDF values.\n",
    "    # TODO select more meaningful initial scale ?\n",
    "    scales = torch.full((n_grids,), fill_value=grid_scale)\n",
    "    \n",
    "    sdf_values = torch.zeros((n_grids, grid_resolution, grid_resolution, grid_resolution))\n",
    "    \n",
    "    # Step 4: For each grid, compute the local SDF values (simplified here as zeros).\n",
    "    for i in range(n_grids):\n",
    "        # In practice, compute and store the SDF values for points within the grid.\n",
    "        sdf_values[i] = compute_local_sdf(shape_sampler, volume_centers[i], grid_scale)\n",
    "    \n",
    "    # Each grid's representation could be expanded to include its location, scale, and SDF values.\n",
    "    grids_representation = (volume_centers, scales, sdf_values)\n",
    "    \n",
    "    # TODO concat grid_representation into single row?\n",
    "\n",
    "    return grids_representation\n",
    "\n",
    "def sample_volume_centers(shape_sampler, n_grids):\n",
    "    # Placeholder for actual implementation of farthest point sampling.\n",
    "    return torch.rand((n_grids, 3))  # Randomly initialized for illustration.\n",
    "\n",
    "\n",
    "def compute_local_sdf(shape_sampler, center, scale, grid_resolution=7):\n",
    "    x = torch.linspace(center[0] - scale / 2, center[0] + scale / 2, grid_resolution)\n",
    "    y = torch.linspace(center[1] - scale / 2, center[1] + scale / 2, grid_resolution)\n",
    "    z = torch.linspace(center[2] - scale / 2, center[2] + scale / 2, grid_resolution)\n",
    "    x, y, z = torch.meshgrid(x, y, z, indexing='ij')\n",
    "    grid_points = torch.stack([x, y, z], dim=-1).reshape(-1, 3)\n",
    "    sdf_values = shape_sampler(grid_points).reshape(grid_resolution, grid_resolution, grid_resolution)\n",
    "    return sdf_values\n"
   ]
  },
  {
   "cell_type": "code",
   "execution_count": 5,
   "metadata": {},
   "outputs": [
    {
     "name": "stdout",
     "output_type": "stream",
     "text": [
      "torch.Size([3, 3, 3])\n"
     ]
    }
   ],
   "source": [
    "# Using the updated ShapeSampler class\n",
    "shape_sampler = ShapeSampler(\"sphere\")\n",
    "center = torch.tensor([0.0, 0.0, 0.0])\n",
    "scale = 2.0\n",
    "\n",
    "# Compute local SDF values\n",
    "local_sdf_values = compute_local_sdf(shape_sampler, center, scale, grid_resolution=3)\n",
    "print(local_sdf_values.shape) "
   ]
  },
  {
   "cell_type": "code",
   "execution_count": 6,
   "metadata": {},
   "outputs": [
    {
     "data": {
      "text/plain": [
       "tensor([[[ 0.7321,  0.4142,  0.7321],\n",
       "         [ 0.4142,  0.0000,  0.4142],\n",
       "         [ 0.7321,  0.4142,  0.7321]],\n",
       "\n",
       "        [[ 0.4142,  0.0000,  0.4142],\n",
       "         [ 0.0000, -1.0000,  0.0000],\n",
       "         [ 0.4142,  0.0000,  0.4142]],\n",
       "\n",
       "        [[ 0.7321,  0.4142,  0.7321],\n",
       "         [ 0.4142,  0.0000,  0.4142],\n",
       "         [ 0.7321,  0.4142,  0.7321]]])"
      ]
     },
     "execution_count": 6,
     "metadata": {},
     "output_type": "execute_result"
    }
   ],
   "source": [
    "local_sdf_values"
   ]
  },
  {
   "cell_type": "code",
   "execution_count": 7,
   "metadata": {},
   "outputs": [],
   "source": [
    "\n",
    "# def trilinear_interpolation(sdf_values, relative_pos):\n",
    "#     # Placeholder function for trilinear interpolation\n",
    "#     # sdf_values: tensor of SDF values in a grid\n",
    "#     # relative_pos: relative position within the grid, scaled to [0, 1]\n",
    "#     # This function should interpolate sdf_values based on relative_pos\n",
    "#     return torch.tensor(0.0)  # Simplified return value for illustration\n",
    "\n",
    "def trilinear_interpolation_pytorch(grid, relative_pos):\n",
    "    return None\n",
    "\n",
    "\n",
    "def scalar_weight_function(distance, scale):\n",
    "    # Placeholder function for scalar weight based on distance and scale\n",
    "    return 1.0  # Simplified return value for illustration\n"
   ]
  },
  {
   "cell_type": "code",
   "execution_count": 8,
   "metadata": {},
   "outputs": [],
   "source": [
    "class MosaicSDF(nn.Module):\n",
    "    def __init__(self, shape_sampler: ShapeSampler, grid_resolution=7, n_grids=1024):\n",
    "        \"\"\"\n",
    "        Initialize the MosaicSDF representation.\n",
    "        \n",
    "        :param shape_sampler: Shape Sampler facade.\n",
    "        :param n_grids: Number of local grids.\n",
    "        :param grid_resolution: Resolution of each grid (assumed cubic for simplicity).\n",
    "        :param grid_scale: Initial scale (size) for each grid.\n",
    "        \"\"\"\n",
    "        super(MosaicSDF, self).__init__()\n",
    "        \n",
    "        self.shape_sampler = shape_sampler\n",
    "\n",
    "        # Assuming volume_centers, scales, and sdf_values are learnable parameters\n",
    "        self.volume_centers = nn.Parameter(torch.rand((n_grids, 3)) * 2 - 1)  # Initialize randomly within [-1, 1]\n",
    "        \n",
    "        min_rand_scale = .01\n",
    "        max_rand_scale = 1.\n",
    "        self.scales = nn.Parameter(torch.rand((n_grids,)) * (max_rand_scale - min_rand_scale) + min_rand_scale)\n",
    "\n",
    "        self.sdf_values = nn.Parameter(torch.randn(n_grids, grid_resolution, grid_resolution, grid_resolution))\n",
    "        \n",
    "    def forward(self, points):\n",
    "        \"\"\"\n",
    "        Compute the SDF values at given points using the Mosaic-SDF representation.\n",
    "        \n",
    "        :param points: Tensor of points where SDF values are to be computed (N, 3).\n",
    "        :return: SDF values at the provided points.\n",
    "        \"\"\"\n",
    "        \n",
    "        points_expanded_to_grids = points[:, None, :]\n",
    "        grids_expanded_to_points = self.volume_centers[None, ...]\n",
    "        scales_expanded_to_points = self.scales[None, ..., None]\n",
    "        \n",
    "        points_grid_centers_diff = points_expanded_to_grids - grids_expanded_to_points\n",
    "        scaled_points_grid_centers_diff = points_grid_centers_diff / scales_expanded_to_points\n",
    "        \n",
    "        sdf_values_expanded_to_points = self.sdf_values[None, ...]\n",
    "        points_interpolated_sdf = trilinear_interpolation(sdf_values_expanded_to_points, scaled_points_grid_centers_diff)\n",
    "        \n",
    "        distances_from_point_to_grid_centers = torch.linalg.vector_norm(points_grid_centers_diff, dim=-1)\n",
    "        \n",
    "        points_sdf_weight = scalar_weight_function(distances_from_point_to_grid_centers, scales_expanded_to_points)\n",
    "\n",
    "        points_sdf = torch.sum(points_interpolated_sdf * points_sdf_weight, dim=-1).reshape(points.shape[0], 1)\n",
    "        return points_sdf\n"
   ]
  },
  {
   "cell_type": "code",
   "execution_count": 43,
   "metadata": {},
   "outputs": [],
   "source": [
    "\n",
    "volume_centers = torch.tensor([\n",
    "    [0.1, 0, 0.5], \n",
    "    [0.5, 0.2, 0], \n",
    "    [1, 1, .5], \n",
    "])\n",
    "\n",
    "scales = torch.tensor([1,1,1])\n",
    "\n",
    "points = torch.tensor([\n",
    "    [0.5, 0.5, 0], \n",
    "    [1, 0, .5], \n",
    "])\n",
    "\n"
   ]
  },
  {
   "cell_type": "code",
   "execution_count": 44,
   "metadata": {},
   "outputs": [],
   "source": [
    "points_expanded_to_grids = points[:, None, :]\n",
    "grids_expanded_to_points = volume_centers[None, ...]\n",
    "scales_expanded_to_points = scales[None, ..., None]\n",
    "\n",
    "points_grid_centers_diff = points_expanded_to_grids - grids_expanded_to_points\n",
    "scaled_points_grid_centers_diff = points_grid_centers_diff / scales_expanded_to_points"
   ]
  },
  {
   "cell_type": "code",
   "execution_count": 45,
   "metadata": {},
   "outputs": [],
   "source": [
    "k = 7\n",
    "\n",
    "sdf_values = torch.rand((scales.shape[0], k, k ,k))"
   ]
  },
  {
   "cell_type": "code",
   "execution_count": 46,
   "metadata": {},
   "outputs": [],
   "source": [
    "\n",
    "k = 7\n",
    "\n",
    "def trilinear_interpolation_pytorch(grid, relative_pos):\n",
    "    \"\"\"\n",
    "    Performs trilinear interpolation within a 7x7x7 SDF grid using PyTorch, for a batch of points.\n",
    "\n",
    "    Args:\n",
    "        grid (torch.Tensor): Tensor containing the SDF values for multiple grids.\n",
    "                             Shape: (n_grids, 7, 7, 7).\n",
    "        relative_pos (torch.Tensor): Batch of 3D coordinates (x, y, z) of points within the grids,\n",
    "                                     values should be in the range [-1, 1]. Shape: (N, 3).\n",
    "\n",
    "    Returns:\n",
    "        torch.Tensor: The interpolated SDF values at the given points. Shape: (N,).\n",
    "    \"\"\"\n",
    "    # TODO\n",
    "    # if relative_pos is outside -1,1 - return 0 SDF value\n",
    "\n",
    "    \n",
    "    # Convert relative positions from [-1, 1] to [0, 6]\n",
    "    relative_pos_scaled = (relative_pos + 1) * 3\n",
    "    base_indices = torch.floor(relative_pos_scaled).long()\n",
    "    upper_indices = torch.ceil(relative_pos_scaled).long()\n",
    "    \n",
    "    # Calculate the fractional part for interpolation\n",
    "    fractional_part = relative_pos_scaled - base_indices.float()\n",
    "\n",
    "    # Ensure indices are within bounds\n",
    "    base_indices = torch.clamp(base_indices, 0, 6)\n",
    "    upper_indices = torch.clamp(upper_indices, 0, 6)\n",
    "\n",
    "    # Preparing to gather corner values for each grid and each point\n",
    "    B, N, _ = relative_pos.shape\n",
    "    idx = torch.arange(B)[:, None]\n",
    "\n",
    "    # Calculate weights for trilinear interpolation\n",
    "    fx, fy, fz = fractional_part.unbind(-1)\n",
    "    weights = torch.stack([\n",
    "        (1 - fx) * (1 - fy) * (1 - fz),\n",
    "        (1 - fx) * (1 - fy) * fz,\n",
    "        (1 - fx) * fy * (1 - fz),\n",
    "        (1 - fx) * fy * fz,\n",
    "        fx * (1 - fy) * (1 - fz),\n",
    "        fx * (1 - fy) * fz,\n",
    "        fx * fy * (1 - fz),\n",
    "        fx * fy * fz\n",
    "    ], dim=-1)  # Shape: (B, N, 8)\n",
    "    \n",
    "    # Gather the values at the 8 corners for each point\n",
    "    corner_values = torch.zeros(N, 8)\n",
    "    for i in range(8):\n",
    "        bx, by, bz = [b[:, i] for b in torch.meshgrid(base_indices[:, 0], base_indices[:, 1], base_indices[:, 2], indexing='ij')]\n",
    "        ux, uy, uz = [u[:, i] for u in torch.meshgrid(upper_indices[:, 0], upper_indices[:, 1], upper_indices[:, 2], indexing='ij')]\n",
    "        corner_values[:, i] = grid[idx, bx, by, bz]\n",
    "    \n",
    "    # Compute the interpolated SDF values\n",
    "    interpolated_sdf = torch.sum(weights * corner_values, dim=-1)\n",
    "\n",
    "    return interpolated_sdf\n"
   ]
  },
  {
   "cell_type": "code",
   "execution_count": 47,
   "metadata": {},
   "outputs": [
    {
     "ename": "RuntimeError",
     "evalue": "torch.meshgrid: Expected 0D or 1D tensor in the tensor list but got:  4  4  1\n 5  3  3\n[ torch.LongTensor{2,3} ]",
     "output_type": "error",
     "traceback": [
      "\u001b[0;31m---------------------------------------------------------------------------\u001b[0m",
      "\u001b[0;31mRuntimeError\u001b[0m                              Traceback (most recent call last)",
      "Cell \u001b[0;32mIn[47], line 1\u001b[0m\n\u001b[0;32m----> 1\u001b[0m \u001b[43mtrilinear_interpolation_pytorch\u001b[49m\u001b[43m(\u001b[49m\u001b[43msdf_values\u001b[49m\u001b[43m,\u001b[49m\u001b[43m \u001b[49m\u001b[43mscaled_points_grid_centers_diff\u001b[49m\u001b[43m)\u001b[49m\n",
      "Cell \u001b[0;32mIn[46], line 52\u001b[0m, in \u001b[0;36mtrilinear_interpolation_pytorch\u001b[0;34m(grid, relative_pos)\u001b[0m\n\u001b[1;32m     50\u001b[0m corner_values \u001b[38;5;241m=\u001b[39m torch\u001b[38;5;241m.\u001b[39mzeros(N, \u001b[38;5;241m8\u001b[39m)\n\u001b[1;32m     51\u001b[0m \u001b[38;5;28;01mfor\u001b[39;00m i \u001b[38;5;129;01min\u001b[39;00m \u001b[38;5;28mrange\u001b[39m(\u001b[38;5;241m8\u001b[39m):\n\u001b[0;32m---> 52\u001b[0m     bx, by, bz \u001b[38;5;241m=\u001b[39m [b[:, i] \u001b[38;5;28;01mfor\u001b[39;00m b \u001b[38;5;129;01min\u001b[39;00m \u001b[43mtorch\u001b[49m\u001b[38;5;241;43m.\u001b[39;49m\u001b[43mmeshgrid\u001b[49m\u001b[43m(\u001b[49m\u001b[43mbase_indices\u001b[49m\u001b[43m[\u001b[49m\u001b[43m:\u001b[49m\u001b[43m,\u001b[49m\u001b[43m \u001b[49m\u001b[38;5;241;43m0\u001b[39;49m\u001b[43m]\u001b[49m\u001b[43m,\u001b[49m\u001b[43m \u001b[49m\u001b[43mbase_indices\u001b[49m\u001b[43m[\u001b[49m\u001b[43m:\u001b[49m\u001b[43m,\u001b[49m\u001b[43m \u001b[49m\u001b[38;5;241;43m1\u001b[39;49m\u001b[43m]\u001b[49m\u001b[43m,\u001b[49m\u001b[43m \u001b[49m\u001b[43mbase_indices\u001b[49m\u001b[43m[\u001b[49m\u001b[43m:\u001b[49m\u001b[43m,\u001b[49m\u001b[43m \u001b[49m\u001b[38;5;241;43m2\u001b[39;49m\u001b[43m]\u001b[49m\u001b[43m,\u001b[49m\u001b[43m \u001b[49m\u001b[43mindexing\u001b[49m\u001b[38;5;241;43m=\u001b[39;49m\u001b[38;5;124;43m'\u001b[39;49m\u001b[38;5;124;43mij\u001b[39;49m\u001b[38;5;124;43m'\u001b[39;49m\u001b[43m)\u001b[49m]\n\u001b[1;32m     53\u001b[0m     ux, uy, uz \u001b[38;5;241m=\u001b[39m [u[:, i] \u001b[38;5;28;01mfor\u001b[39;00m u \u001b[38;5;129;01min\u001b[39;00m torch\u001b[38;5;241m.\u001b[39mmeshgrid(upper_indices[:, \u001b[38;5;241m0\u001b[39m], upper_indices[:, \u001b[38;5;241m1\u001b[39m], upper_indices[:, \u001b[38;5;241m2\u001b[39m], indexing\u001b[38;5;241m=\u001b[39m\u001b[38;5;124m'\u001b[39m\u001b[38;5;124mij\u001b[39m\u001b[38;5;124m'\u001b[39m)]\n\u001b[1;32m     54\u001b[0m     corner_values[:, i] \u001b[38;5;241m=\u001b[39m grid[idx, bx, by, bz]\n",
      "File \u001b[0;32m~/data/install/miniconda/miniconda3/envs/gen3d/lib/python3.10/site-packages/torch/functional.py:492\u001b[0m, in \u001b[0;36mmeshgrid\u001b[0;34m(indexing, *tensors)\u001b[0m\n\u001b[1;32m    398\u001b[0m \u001b[38;5;28;01mdef\u001b[39;00m \u001b[38;5;21mmeshgrid\u001b[39m(\u001b[38;5;241m*\u001b[39mtensors, indexing: Optional[\u001b[38;5;28mstr\u001b[39m] \u001b[38;5;241m=\u001b[39m \u001b[38;5;28;01mNone\u001b[39;00m) \u001b[38;5;241m-\u001b[39m\u001b[38;5;241m>\u001b[39m Tuple[Tensor, \u001b[38;5;241m.\u001b[39m\u001b[38;5;241m.\u001b[39m\u001b[38;5;241m.\u001b[39m]:\n\u001b[1;32m    399\u001b[0m \u001b[38;5;250m    \u001b[39m\u001b[38;5;124mr\u001b[39m\u001b[38;5;124;03m\"\"\"Creates grids of coordinates specified by the 1D inputs in `attr`:tensors.\u001b[39;00m\n\u001b[1;32m    400\u001b[0m \n\u001b[1;32m    401\u001b[0m \u001b[38;5;124;03m    This is helpful when you want to visualize data over some\u001b[39;00m\n\u001b[0;32m   (...)\u001b[0m\n\u001b[1;32m    490\u001b[0m \n\u001b[1;32m    491\u001b[0m \u001b[38;5;124;03m    \"\"\"\u001b[39;00m\n\u001b[0;32m--> 492\u001b[0m     \u001b[38;5;28;01mreturn\u001b[39;00m \u001b[43m_meshgrid\u001b[49m\u001b[43m(\u001b[49m\u001b[38;5;241;43m*\u001b[39;49m\u001b[43mtensors\u001b[49m\u001b[43m,\u001b[49m\u001b[43m \u001b[49m\u001b[43mindexing\u001b[49m\u001b[38;5;241;43m=\u001b[39;49m\u001b[43mindexing\u001b[49m\u001b[43m)\u001b[49m\n",
      "File \u001b[0;32m~/data/install/miniconda/miniconda3/envs/gen3d/lib/python3.10/site-packages/torch/functional.py:507\u001b[0m, in \u001b[0;36m_meshgrid\u001b[0;34m(indexing, *tensors)\u001b[0m\n\u001b[1;32m    502\u001b[0m \u001b[38;5;66;03m# Continue allowing call of old method that takes no indexing\u001b[39;00m\n\u001b[1;32m    503\u001b[0m \u001b[38;5;66;03m# kwarg for forward compatibility reasons.\u001b[39;00m\n\u001b[1;32m    504\u001b[0m \u001b[38;5;66;03m#\u001b[39;00m\n\u001b[1;32m    505\u001b[0m \u001b[38;5;66;03m# Remove this two weeks after landing.\u001b[39;00m\n\u001b[1;32m    506\u001b[0m kwargs \u001b[38;5;241m=\u001b[39m {} \u001b[38;5;28;01mif\u001b[39;00m indexing \u001b[38;5;129;01mis\u001b[39;00m \u001b[38;5;28;01mNone\u001b[39;00m \u001b[38;5;28;01melse\u001b[39;00m {\u001b[38;5;124m'\u001b[39m\u001b[38;5;124mindexing\u001b[39m\u001b[38;5;124m'\u001b[39m: indexing}\n\u001b[0;32m--> 507\u001b[0m \u001b[38;5;28;01mreturn\u001b[39;00m \u001b[43m_VF\u001b[49m\u001b[38;5;241;43m.\u001b[39;49m\u001b[43mmeshgrid\u001b[49m\u001b[43m(\u001b[49m\u001b[43mtensors\u001b[49m\u001b[43m,\u001b[49m\u001b[43m \u001b[49m\u001b[38;5;241;43m*\u001b[39;49m\u001b[38;5;241;43m*\u001b[39;49m\u001b[43mkwargs\u001b[49m\u001b[43m)\u001b[49m\n",
      "\u001b[0;31mRuntimeError\u001b[0m: torch.meshgrid: Expected 0D or 1D tensor in the tensor list but got:  4  4  1\n 5  3  3\n[ torch.LongTensor{2,3} ]"
     ]
    }
   ],
   "source": [
    "trilinear_interpolation_pytorch(sdf_values, scaled_points_grid_centers_diff)"
   ]
  },
  {
   "cell_type": "code",
   "execution_count": 48,
   "metadata": {},
   "outputs": [
    {
     "name": "stdout",
     "output_type": "stream",
     "text": [
      "torch.Size([2, 3, 3])\n"
     ]
    },
    {
     "data": {
      "text/plain": [
       "tensor([[[ 0.4000,  0.5000, -0.5000],\n",
       "         [ 0.0000,  0.3000,  0.0000],\n",
       "         [-0.5000, -0.5000, -0.5000]],\n",
       "\n",
       "        [[ 0.9000,  0.0000,  0.0000],\n",
       "         [ 0.5000, -0.2000,  0.5000],\n",
       "         [ 0.0000, -1.0000,  0.0000]]])"
      ]
     },
     "execution_count": 48,
     "metadata": {},
     "output_type": "execute_result"
    }
   ],
   "source": [
    "print(scaled_points_grid_centers_diff.shape)\n",
    "scaled_points_grid_centers_diff"
   ]
  },
  {
   "cell_type": "code",
   "execution_count": 49,
   "metadata": {},
   "outputs": [],
   "source": [
    "grid = sdf_values\n",
    "relative_pos = scaled_points_grid_centers_diff"
   ]
  },
  {
   "cell_type": "code",
   "execution_count": 50,
   "metadata": {},
   "outputs": [],
   "source": [
    "\n",
    "# Convert relative positions from [-1, 1] to [0, 6]\n",
    "relative_pos_scaled = (relative_pos + 1) * 3\n",
    "base_indices = torch.floor(relative_pos_scaled).long()\n",
    "upper_indices = torch.ceil(relative_pos_scaled).long()\n",
    "\n",
    "# Calculate the fractional part for interpolation\n",
    "fractional_part = relative_pos_scaled - base_indices.float()\n",
    "\n",
    "# Ensure indices are within bounds\n",
    "base_indices = torch.clamp(base_indices, 0, 6)\n",
    "upper_indices = torch.clamp(upper_indices, 0, 6)\n",
    "\n",
    "# Preparing to gather corner values for each grid and each point\n",
    "B, N, _ = relative_pos.shape\n",
    "idx = torch.arange(B)[:, None]"
   ]
  },
  {
   "cell_type": "code",
   "execution_count": 51,
   "metadata": {},
   "outputs": [],
   "source": [
    "\n",
    "# Calculate weights for trilinear interpolation\n",
    "fx, fy, fz = fractional_part.unbind(-1)\n",
    "weights = torch.stack([\n",
    "    (1 - fx) * (1 - fy) * (1 - fz),\n",
    "    (1 - fx) * (1 - fy) * fz,\n",
    "    (1 - fx) * fy * (1 - fz),\n",
    "    (1 - fx) * fy * fz,\n",
    "    fx * (1 - fy) * (1 - fz),\n",
    "    fx * (1 - fy) * fz,\n",
    "    fx * fy * (1 - fz),\n",
    "    fx * fy * fz\n",
    "], dim=-1)  # Shape: (B, N, 8)"
   ]
  },
  {
   "cell_type": "code",
   "execution_count": 56,
   "metadata": {},
   "outputs": [
    {
     "data": {
      "text/plain": [
       "torch.Size([2, 3, 8])"
      ]
     },
     "execution_count": 56,
     "metadata": {},
     "output_type": "execute_result"
    }
   ],
   "source": [
    "weights.shape"
   ]
  },
  {
   "cell_type": "code",
   "execution_count": 52,
   "metadata": {},
   "outputs": [
    {
     "data": {
      "text/plain": [
       "tensor([[[0.2000, 0.5000, 0.5000],\n",
       "         [0.0000, 0.9000, 0.0000],\n",
       "         [0.5000, 0.5000, 0.5000]],\n",
       "\n",
       "        [[0.7000, 0.0000, 0.0000],\n",
       "         [0.5000, 0.4000, 0.5000],\n",
       "         [0.0000, 0.0000, 0.0000]]])"
      ]
     },
     "execution_count": 52,
     "metadata": {},
     "output_type": "execute_result"
    }
   ],
   "source": [
    "fractional_part"
   ]
  },
  {
   "cell_type": "code",
   "execution_count": 55,
   "metadata": {},
   "outputs": [
    {
     "data": {
      "text/plain": [
       "tensor([[0.2000, 0.0000, 0.5000],\n",
       "        [0.7000, 0.5000, 0.0000]])"
      ]
     },
     "execution_count": 55,
     "metadata": {},
     "output_type": "execute_result"
    }
   ],
   "source": [
    "fractional_part[:,:,0]"
   ]
  },
  {
   "cell_type": "code",
   "execution_count": 53,
   "metadata": {},
   "outputs": [
    {
     "data": {
      "text/plain": [
       "(tensor([[0.2000, 0.0000, 0.5000],\n",
       "         [0.7000, 0.5000, 0.0000]]),\n",
       " tensor([[0.5000, 0.9000, 0.5000],\n",
       "         [0.0000, 0.4000, 0.0000]]),\n",
       " tensor([[0.5000, 0.0000, 0.5000],\n",
       "         [0.0000, 0.5000, 0.0000]]))"
      ]
     },
     "execution_count": 53,
     "metadata": {},
     "output_type": "execute_result"
    }
   ],
   "source": [
    "fractional_part.unbind(-1)"
   ]
  },
  {
   "cell_type": "code",
   "execution_count": 37,
   "metadata": {},
   "outputs": [
    {
     "data": {
      "text/plain": [
       "torch.Size([2, 1])"
      ]
     },
     "execution_count": 37,
     "metadata": {},
     "output_type": "execute_result"
    }
   ],
   "source": [
    "idx.shape"
   ]
  },
  {
   "cell_type": "code",
   "execution_count": 32,
   "metadata": {},
   "outputs": [
    {
     "data": {
      "text/plain": [
       "tensor([[[ 0.5000,  0.5000, -0.5000],\n",
       "         [ 0.0000,  0.0000,  0.0000],\n",
       "         [-0.5000, -0.5000, -0.5000]],\n",
       "\n",
       "        [[ 1.0000,  0.0000,  0.0000],\n",
       "         [ 0.5000, -0.5000,  0.5000],\n",
       "         [ 0.0000, -1.0000,  0.0000]]])"
      ]
     },
     "execution_count": 32,
     "metadata": {},
     "output_type": "execute_result"
    }
   ],
   "source": [
    "relative_pos"
   ]
  },
  {
   "cell_type": "code",
   "execution_count": 31,
   "metadata": {},
   "outputs": [
    {
     "data": {
      "text/plain": [
       "tensor([[[4.5000, 4.5000, 1.5000],\n",
       "         [3.0000, 3.0000, 3.0000],\n",
       "         [1.5000, 1.5000, 1.5000]],\n",
       "\n",
       "        [[6.0000, 3.0000, 3.0000],\n",
       "         [4.5000, 1.5000, 4.5000],\n",
       "         [3.0000, 0.0000, 3.0000]]])"
      ]
     },
     "execution_count": 31,
     "metadata": {},
     "output_type": "execute_result"
    }
   ],
   "source": [
    "relative_pos_scaled"
   ]
  },
  {
   "cell_type": "code",
   "execution_count": 29,
   "metadata": {},
   "outputs": [
    {
     "data": {
      "text/plain": [
       "tensor([[[4, 4, 1],\n",
       "         [3, 3, 3],\n",
       "         [1, 1, 1]],\n",
       "\n",
       "        [[6, 3, 3],\n",
       "         [4, 1, 4],\n",
       "         [3, 0, 3]]])"
      ]
     },
     "execution_count": 29,
     "metadata": {},
     "output_type": "execute_result"
    }
   ],
   "source": [
    "base_indices"
   ]
  },
  {
   "cell_type": "code",
   "execution_count": 30,
   "metadata": {},
   "outputs": [
    {
     "data": {
      "text/plain": [
       "tensor([[[5, 5, 2],\n",
       "         [3, 3, 3],\n",
       "         [2, 2, 2]],\n",
       "\n",
       "        [[6, 3, 3],\n",
       "         [5, 2, 5],\n",
       "         [3, 0, 3]]])"
      ]
     },
     "execution_count": 30,
     "metadata": {},
     "output_type": "execute_result"
    }
   ],
   "source": [
    "upper_indices"
   ]
  }
 ],
 "metadata": {
  "kernelspec": {
   "display_name": "Python 3 (ipykernel)",
   "language": "python",
   "name": "python3"
  },
  "language_info": {
   "codemirror_mode": {
    "name": "ipython",
    "version": 3
   },
   "file_extension": ".py",
   "mimetype": "text/x-python",
   "name": "python",
   "nbconvert_exporter": "python",
   "pygments_lexer": "ipython3",
   "version": "3.10.13"
  }
 },
 "nbformat": 4,
 "nbformat_minor": 2
}
