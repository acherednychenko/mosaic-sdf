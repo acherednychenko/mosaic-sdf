{
 "cells": [
  {
   "cell_type": "code",
   "execution_count": null,
   "metadata": {},
   "outputs": [],
   "source": [
    "import torch\n",
    "import torch.nn as nn\n",
    "import numpy as np\n",
    "\n",
    "from einops import rearrange\n",
    "\n",
    "from mosaic_sdf import MosaicSDF\n",
    "from shape_sampler import ShapeSampler\n",
    "from optimizer import MosaicSDFOptimizer\n",
    "from mosaic_sdf_visualizer import MosaicSDFVisualizer\n"
   ]
  },
  {
   "cell_type": "code",
   "execution_count": null,
   "metadata": {},
   "outputs": [],
   "source": [
    "sphere_mesh_path = 'data/sphere.obj'\n",
    "cube_wireframe_path = 'data/cube_wireframe.obj'\n",
    "\n",
    "\n",
    "sdf_shape_path = 'data/chain.obj'"
   ]
  },
  {
   "cell_type": "code",
   "execution_count": null,
   "metadata": {},
   "outputs": [],
   "source": [
    "device = torch.device(\"cuda:0\" if torch.cuda.is_available() else \"cpu\")\n"
   ]
  },
  {
   "cell_type": "code",
   "execution_count": null,
   "metadata": {},
   "outputs": [],
   "source": [
    "shape_sampler = ShapeSampler.from_file(sdf_shape_path, device='cuda', \n",
    "                                       normalize_shape=True,\n",
    "                                       make_watertight=True)\n",
    "\n",
    "config = {   \n",
    "    'device': device,\n",
    "    \n",
    "    'shape_path': sdf_shape_path,  # Adjust accordingly\n",
    "    \n",
    "    # mosaicSDF params\n",
    "    'grid_resolution': 7,\n",
    "    # 'n_grids': 1024,\n",
    "    'n_grids': 256, # the most important parameter\n",
    "\n",
    "    'points_random_spread': .03,\n",
    "    'val_points_random_spread': .03,\n",
    "    'mosaic_scale_multiplier': 3,\n",
    "    \n",
    "    # optimizer params\n",
    "    'lr': 1e-4,\n",
    "    'weight_decay': 0.0,\n",
    "    \"b1\": 0.9,\n",
    "    \"b2\": .999,\n",
    "\n",
    "    'lambda_val': .1,\n",
    "    \n",
    "    \n",
    "    # optimization params\n",
    "    'points_in_epoch': 4096,\n",
    "    'points_sample_size': 32,\n",
    "    'gradient_accumulation_steps': 4,\n",
    "\n",
    "    'eval_every_nth_points': 1024,\n",
    "    'val_size': 1024,\n",
    "    'points_sample_size_eval_scaler': 4, # can sample faster during eval\n",
    "\n",
    "    'project_name': 'mosaicSDF_select',\n",
    "    'log_to_wandb': False, \n",
    "\n",
    "    # other debug stuff\n",
    "    'output_graph': False,\n",
    "    'points_random_sampling': False\n",
    "}\n",
    "\n",
    "optimizer = MosaicSDFOptimizer(config)\n",
    "\n",
    "optimizer.model.update_sdf_values(shape_sampler)\n"
   ]
  },
  {
   "cell_type": "code",
   "execution_count": null,
   "metadata": {},
   "outputs": [],
   "source": [
    "\n",
    "visualizer = MosaicSDFVisualizer(optimizer.shape_sampler, \n",
    "    device, template_mesh_path=cube_wireframe_path)#, requires_grad=False)"
   ]
  },
  {
   "cell_type": "code",
   "execution_count": null,
   "metadata": {},
   "outputs": [],
   "source": [
    "from utils_vis import compare_shapes\n",
    "\n",
    "compare_shapes(shape_sampler, visualizer, optimizer.model, \n",
    "               resolution=80, \n",
    "               show_mosaic_grids=False,\n",
    "               show_gt_mesh=True, show_gt_sdf=True, show_mosaic_sdf=True,\n",
    "               region_span=[1, .6, .2]\n",
    "               )"
   ]
  },
  {
   "cell_type": "code",
   "execution_count": null,
   "metadata": {},
   "outputs": [],
   "source": [
    "for i in range(4):\n",
    "    optimizer.step()"
   ]
  },
  {
   "cell_type": "code",
   "execution_count": null,
   "metadata": {},
   "outputs": [],
   "source": [
    "\n",
    "compare_shapes(shape_sampler, visualizer, optimizer.model, \n",
    "               resolution=80, \n",
    "               show_mosaic_grids=False,\n",
    "               show_gt_mesh=True, show_gt_sdf=True, show_mosaic_sdf=True,\n",
    "               region_span=[1, .6, .2]\n",
    "               )"
   ]
  }
 ],
 "metadata": {
  "kernelspec": {
   "display_name": "Python 3 (ipykernel)",
   "language": "python",
   "name": "python3"
  },
  "language_info": {
   "codemirror_mode": {
    "name": "ipython",
    "version": 3
   },
   "file_extension": ".py",
   "mimetype": "text/x-python",
   "name": "python",
   "nbconvert_exporter": "python",
   "pygments_lexer": "ipython3",
   "version": "3.10.13"
  }
 },
 "nbformat": 4,
 "nbformat_minor": 2
}
